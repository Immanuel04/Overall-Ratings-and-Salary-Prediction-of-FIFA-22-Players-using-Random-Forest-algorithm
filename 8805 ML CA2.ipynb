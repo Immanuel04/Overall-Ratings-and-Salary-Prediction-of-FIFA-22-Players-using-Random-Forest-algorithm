{
  "nbformat": 4,
  "nbformat_minor": 0,
  "metadata": {
    "colab": {
      "provenance": []
    },
    "kernelspec": {
      "name": "python3",
      "display_name": "Python 3"
    },
    "language_info": {
      "name": "python"
    }
  },
  "cells": [
    {
      "cell_type": "markdown",
      "source": [
        "# **Machine Learning CA2 : Overall Ratings and Salary Prediction of FIFA 22 Players**\n",
        "\n",
        "## Name    : Immanuel Paul\n",
        "## Class   : TYCS A\n",
        "## Roll No : 8805\n",
        "\n",
        "\n"
      ],
      "metadata": {
        "id": "ZbetEDVU22Wt"
      }
    },
    {
      "cell_type": "markdown",
      "source": [
        "### **Dataset Selection : FIFA 22  & Importing Libraries**"
      ],
      "metadata": {
        "id": "-MOGXjri37Q5"
      }
    },
    {
      "cell_type": "code",
      "execution_count": 1,
      "metadata": {
        "id": "2ayd8cOk8TX0",
        "colab": {
          "base_uri": "https://localhost:8080/"
        },
        "outputId": "56a9f712-bf0e-4617-d33e-8d3f92ec68d0"
      },
      "outputs": [
        {
          "output_type": "stream",
          "name": "stdout",
          "text": [
            "       sofifa_id                                         player_url  \\\n",
            "0         158023  https://sofifa.com/player/158023/lionel-messi/...   \n",
            "1         188545  https://sofifa.com/player/188545/robert-lewand...   \n",
            "2          20801  https://sofifa.com/player/20801/c-ronaldo-dos-...   \n",
            "3         190871  https://sofifa.com/player/190871/neymar-da-sil...   \n",
            "4         192985  https://sofifa.com/player/192985/kevin-de-bruy...   \n",
            "...          ...                                                ...   \n",
            "19234     261962  https://sofifa.com/player/261962/defu-song/220002   \n",
            "19235     262040  https://sofifa.com/player/262040/caoimhin-port...   \n",
            "19236     262760  https://sofifa.com/player/262760/nathan-logue/...   \n",
            "19237     262820  https://sofifa.com/player/262820/luke-rudden/2...   \n",
            "19238     264540  https://sofifa.com/player/264540/emanuel-lalch...   \n",
            "\n",
            "               short_name                            long_name  \\\n",
            "0                L. Messi       Lionel Andrés Messi Cuccittini   \n",
            "1          R. Lewandowski                   Robert Lewandowski   \n",
            "2       Cristiano Ronaldo  Cristiano Ronaldo dos Santos Aveiro   \n",
            "3               Neymar Jr        Neymar da Silva Santos Júnior   \n",
            "4            K. De Bruyne                      Kevin De Bruyne   \n",
            "...                   ...                                  ...   \n",
            "19234           Song Defu                                  ???   \n",
            "19235           C. Porter                      Caoimhin Porter   \n",
            "19236            N. Logue              Nathan Logue-Cunningham   \n",
            "19237           L. Rudden                          Luke Rudden   \n",
            "19238  E. Lalchhanchhuaha              Emanuel Lalchhanchhuaha   \n",
            "\n",
            "      player_positions  overall  potential    value_eur  wage_eur  age  ...  \\\n",
            "0           RW, ST, CF       93         93   78000000.0  320000.0   34  ...   \n",
            "1                   ST       92         92  119500000.0  270000.0   32  ...   \n",
            "2               ST, LW       91         91   45000000.0  270000.0   36  ...   \n",
            "3              LW, CAM       91         91  129000000.0  270000.0   29  ...   \n",
            "4              CM, CAM       91         91  125500000.0  350000.0   30  ...   \n",
            "...                ...      ...        ...          ...       ...  ...  ...   \n",
            "19234              CDM       47         52      70000.0    1000.0   22  ...   \n",
            "19235               CM       47         59     110000.0     500.0   19  ...   \n",
            "19236               CM       47         55     100000.0     500.0   21  ...   \n",
            "19237               ST       47         60     110000.0     500.0   19  ...   \n",
            "19238              CAM       47         60     110000.0     500.0   19  ...   \n",
            "\n",
            "        lcb    cb   rcb    rb    gk  \\\n",
            "0      50+3  50+3  50+3  61+3  19+3   \n",
            "1      60+3  60+3  60+3  61+3  19+3   \n",
            "2      53+3  53+3  53+3  60+3  20+3   \n",
            "3      50+3  50+3  50+3  62+3  20+3   \n",
            "4      69+3  69+3  69+3  75+3  21+3   \n",
            "...     ...   ...   ...   ...   ...   \n",
            "19234  46+2  46+2  46+2  48+2  15+2   \n",
            "19235  44+2  44+2  44+2  48+2  14+2   \n",
            "19236  45+2  45+2  45+2  47+2  12+2   \n",
            "19237  26+2  26+2  26+2  32+2  15+2   \n",
            "19238  41+2  41+2  41+2  45+2  16+2   \n",
            "\n",
            "                                         player_face_url  \\\n",
            "0      https://cdn.sofifa.net/players/158/023/22_120.png   \n",
            "1      https://cdn.sofifa.net/players/188/545/22_120.png   \n",
            "2      https://cdn.sofifa.net/players/020/801/22_120.png   \n",
            "3      https://cdn.sofifa.net/players/190/871/22_120.png   \n",
            "4      https://cdn.sofifa.net/players/192/985/22_120.png   \n",
            "...                                                  ...   \n",
            "19234  https://cdn.sofifa.net/players/261/962/22_120.png   \n",
            "19235  https://cdn.sofifa.net/players/262/040/22_120.png   \n",
            "19236  https://cdn.sofifa.net/players/262/760/22_120.png   \n",
            "19237  https://cdn.sofifa.net/players/262/820/22_120.png   \n",
            "19238  https://cdn.sofifa.net/players/264/540/22_120.png   \n",
            "\n",
            "                                    club_logo_url  \\\n",
            "0          https://cdn.sofifa.net/teams/73/60.png   \n",
            "1          https://cdn.sofifa.net/teams/21/60.png   \n",
            "2          https://cdn.sofifa.net/teams/11/60.png   \n",
            "3          https://cdn.sofifa.net/teams/73/60.png   \n",
            "4          https://cdn.sofifa.net/teams/10/60.png   \n",
            "...                                           ...   \n",
            "19234  https://cdn.sofifa.net/teams/112541/60.png   \n",
            "19235     https://cdn.sofifa.net/teams/445/60.png   \n",
            "19236  https://cdn.sofifa.net/teams/111131/60.png   \n",
            "19237  https://cdn.sofifa.net/teams/111131/60.png   \n",
            "19238  https://cdn.sofifa.net/teams/113040/60.png   \n",
            "\n",
            "                                 club_flag_url  \\\n",
            "0          https://cdn.sofifa.net/flags/fr.png   \n",
            "1          https://cdn.sofifa.net/flags/de.png   \n",
            "2      https://cdn.sofifa.net/flags/gb-eng.png   \n",
            "3          https://cdn.sofifa.net/flags/fr.png   \n",
            "4      https://cdn.sofifa.net/flags/gb-eng.png   \n",
            "...                                        ...   \n",
            "19234      https://cdn.sofifa.net/flags/cn.png   \n",
            "19235      https://cdn.sofifa.net/flags/ie.png   \n",
            "19236      https://cdn.sofifa.net/flags/ie.png   \n",
            "19237      https://cdn.sofifa.net/flags/ie.png   \n",
            "19238      https://cdn.sofifa.net/flags/in.png   \n",
            "\n",
            "                                nation_logo_url  \\\n",
            "0      https://cdn.sofifa.net/teams/1369/60.png   \n",
            "1      https://cdn.sofifa.net/teams/1353/60.png   \n",
            "2      https://cdn.sofifa.net/teams/1354/60.png   \n",
            "3                                           NaN   \n",
            "4      https://cdn.sofifa.net/teams/1325/60.png   \n",
            "...                                         ...   \n",
            "19234                                       NaN   \n",
            "19235                                       NaN   \n",
            "19236                                       NaN   \n",
            "19237                                       NaN   \n",
            "19238                                       NaN   \n",
            "\n",
            "                           nation_flag_url  \n",
            "0      https://cdn.sofifa.net/flags/ar.png  \n",
            "1      https://cdn.sofifa.net/flags/pl.png  \n",
            "2      https://cdn.sofifa.net/flags/pt.png  \n",
            "3      https://cdn.sofifa.net/flags/br.png  \n",
            "4      https://cdn.sofifa.net/flags/be.png  \n",
            "...                                    ...  \n",
            "19234  https://cdn.sofifa.net/flags/cn.png  \n",
            "19235  https://cdn.sofifa.net/flags/ie.png  \n",
            "19236  https://cdn.sofifa.net/flags/ie.png  \n",
            "19237  https://cdn.sofifa.net/flags/ie.png  \n",
            "19238  https://cdn.sofifa.net/flags/in.png  \n",
            "\n",
            "[19239 rows x 110 columns]\n"
          ]
        },
        {
          "output_type": "stream",
          "name": "stderr",
          "text": [
            "<ipython-input-1-05e29b3e25d3>:2: DtypeWarning: Columns (25,108) have mixed types. Specify dtype option on import or set low_memory=False.\n",
            "  df = pd.read_csv('/content/Fifa 2022 players.csv')\n"
          ]
        }
      ],
      "source": [
        "import pandas as pd\n",
        "df = pd.read_csv('/content/Fifa 2022 players.csv')\n",
        "print(df)"
      ]
    },
    {
      "cell_type": "code",
      "source": [
        "import numpy as np\n",
        "import matplotlib.pyplot as plt\n",
        "import seaborn as sns\n",
        "import pandas as pd\n",
        "import math\n",
        "from sklearn.model_selection import train_test_split\n",
        "from sklearn.preprocessing import LabelEncoder\n",
        "from sklearn.ensemble import RandomForestClassifier\n",
        "from sklearn.metrics import accuracy_score, classification_report, confusion_matrix"
      ],
      "metadata": {
        "id": "UhCXqoqWLWby"
      },
      "execution_count": 2,
      "outputs": []
    },
    {
      "cell_type": "markdown",
      "source": [
        "### **Data Exploration and Cleaning :**\n",
        "### Functions for Data Cleaning"
      ],
      "metadata": {
        "id": "DOREsCZe4inz"
      }
    },
    {
      "cell_type": "code",
      "source": [
        "#display top 5 rows of the dataset\n",
        "df.head()"
      ],
      "metadata": {
        "colab": {
          "base_uri": "https://localhost:8080/",
          "height": 429
        },
        "id": "FV9KS8fBLh_n",
        "outputId": "61d017d0-5d9b-4978-a3ba-5d83198da840"
      },
      "execution_count": null,
      "outputs": [
        {
          "output_type": "execute_result",
          "data": {
            "text/plain": [
              "   sofifa_id                                         player_url  \\\n",
              "0     158023  https://sofifa.com/player/158023/lionel-messi/...   \n",
              "1     188545  https://sofifa.com/player/188545/robert-lewand...   \n",
              "2      20801  https://sofifa.com/player/20801/c-ronaldo-dos-...   \n",
              "3     190871  https://sofifa.com/player/190871/neymar-da-sil...   \n",
              "4     192985  https://sofifa.com/player/192985/kevin-de-bruy...   \n",
              "\n",
              "          short_name                            long_name player_positions  \\\n",
              "0           L. Messi       Lionel Andrés Messi Cuccittini       RW, ST, CF   \n",
              "1     R. Lewandowski                   Robert Lewandowski               ST   \n",
              "2  Cristiano Ronaldo  Cristiano Ronaldo dos Santos Aveiro           ST, LW   \n",
              "3          Neymar Jr        Neymar da Silva Santos Júnior          LW, CAM   \n",
              "4       K. De Bruyne                      Kevin De Bruyne          CM, CAM   \n",
              "\n",
              "   overall  potential    value_eur  wage_eur  age  ...   lcb    cb   rcb  \\\n",
              "0       93         93   78000000.0  320000.0   34  ...  50+3  50+3  50+3   \n",
              "1       92         92  119500000.0  270000.0   32  ...  60+3  60+3  60+3   \n",
              "2       91         91   45000000.0  270000.0   36  ...  53+3  53+3  53+3   \n",
              "3       91         91  129000000.0  270000.0   29  ...  50+3  50+3  50+3   \n",
              "4       91         91  125500000.0  350000.0   30  ...  69+3  69+3  69+3   \n",
              "\n",
              "     rb    gk                                    player_face_url  \\\n",
              "0  61+3  19+3  https://cdn.sofifa.net/players/158/023/22_120.png   \n",
              "1  61+3  19+3  https://cdn.sofifa.net/players/188/545/22_120.png   \n",
              "2  60+3  20+3  https://cdn.sofifa.net/players/020/801/22_120.png   \n",
              "3  62+3  20+3  https://cdn.sofifa.net/players/190/871/22_120.png   \n",
              "4  75+3  21+3  https://cdn.sofifa.net/players/192/985/22_120.png   \n",
              "\n",
              "                            club_logo_url  \\\n",
              "0  https://cdn.sofifa.net/teams/73/60.png   \n",
              "1  https://cdn.sofifa.net/teams/21/60.png   \n",
              "2  https://cdn.sofifa.net/teams/11/60.png   \n",
              "3  https://cdn.sofifa.net/teams/73/60.png   \n",
              "4  https://cdn.sofifa.net/teams/10/60.png   \n",
              "\n",
              "                             club_flag_url  \\\n",
              "0      https://cdn.sofifa.net/flags/fr.png   \n",
              "1      https://cdn.sofifa.net/flags/de.png   \n",
              "2  https://cdn.sofifa.net/flags/gb-eng.png   \n",
              "3      https://cdn.sofifa.net/flags/fr.png   \n",
              "4  https://cdn.sofifa.net/flags/gb-eng.png   \n",
              "\n",
              "                            nation_logo_url  \\\n",
              "0  https://cdn.sofifa.net/teams/1369/60.png   \n",
              "1  https://cdn.sofifa.net/teams/1353/60.png   \n",
              "2  https://cdn.sofifa.net/teams/1354/60.png   \n",
              "3                                       NaN   \n",
              "4  https://cdn.sofifa.net/teams/1325/60.png   \n",
              "\n",
              "                       nation_flag_url  \n",
              "0  https://cdn.sofifa.net/flags/ar.png  \n",
              "1  https://cdn.sofifa.net/flags/pl.png  \n",
              "2  https://cdn.sofifa.net/flags/pt.png  \n",
              "3  https://cdn.sofifa.net/flags/br.png  \n",
              "4  https://cdn.sofifa.net/flags/be.png  \n",
              "\n",
              "[5 rows x 110 columns]"
            ],
            "text/html": [
              "\n",
              "  <div id=\"df-708dd4aa-928e-45d0-a5b2-a0198a36617c\" class=\"colab-df-container\">\n",
              "    <div>\n",
              "<style scoped>\n",
              "    .dataframe tbody tr th:only-of-type {\n",
              "        vertical-align: middle;\n",
              "    }\n",
              "\n",
              "    .dataframe tbody tr th {\n",
              "        vertical-align: top;\n",
              "    }\n",
              "\n",
              "    .dataframe thead th {\n",
              "        text-align: right;\n",
              "    }\n",
              "</style>\n",
              "<table border=\"1\" class=\"dataframe\">\n",
              "  <thead>\n",
              "    <tr style=\"text-align: right;\">\n",
              "      <th></th>\n",
              "      <th>sofifa_id</th>\n",
              "      <th>player_url</th>\n",
              "      <th>short_name</th>\n",
              "      <th>long_name</th>\n",
              "      <th>player_positions</th>\n",
              "      <th>overall</th>\n",
              "      <th>potential</th>\n",
              "      <th>value_eur</th>\n",
              "      <th>wage_eur</th>\n",
              "      <th>age</th>\n",
              "      <th>...</th>\n",
              "      <th>lcb</th>\n",
              "      <th>cb</th>\n",
              "      <th>rcb</th>\n",
              "      <th>rb</th>\n",
              "      <th>gk</th>\n",
              "      <th>player_face_url</th>\n",
              "      <th>club_logo_url</th>\n",
              "      <th>club_flag_url</th>\n",
              "      <th>nation_logo_url</th>\n",
              "      <th>nation_flag_url</th>\n",
              "    </tr>\n",
              "  </thead>\n",
              "  <tbody>\n",
              "    <tr>\n",
              "      <th>0</th>\n",
              "      <td>158023</td>\n",
              "      <td>https://sofifa.com/player/158023/lionel-messi/...</td>\n",
              "      <td>L. Messi</td>\n",
              "      <td>Lionel Andrés Messi Cuccittini</td>\n",
              "      <td>RW, ST, CF</td>\n",
              "      <td>93</td>\n",
              "      <td>93</td>\n",
              "      <td>78000000.0</td>\n",
              "      <td>320000.0</td>\n",
              "      <td>34</td>\n",
              "      <td>...</td>\n",
              "      <td>50+3</td>\n",
              "      <td>50+3</td>\n",
              "      <td>50+3</td>\n",
              "      <td>61+3</td>\n",
              "      <td>19+3</td>\n",
              "      <td>https://cdn.sofifa.net/players/158/023/22_120.png</td>\n",
              "      <td>https://cdn.sofifa.net/teams/73/60.png</td>\n",
              "      <td>https://cdn.sofifa.net/flags/fr.png</td>\n",
              "      <td>https://cdn.sofifa.net/teams/1369/60.png</td>\n",
              "      <td>https://cdn.sofifa.net/flags/ar.png</td>\n",
              "    </tr>\n",
              "    <tr>\n",
              "      <th>1</th>\n",
              "      <td>188545</td>\n",
              "      <td>https://sofifa.com/player/188545/robert-lewand...</td>\n",
              "      <td>R. Lewandowski</td>\n",
              "      <td>Robert Lewandowski</td>\n",
              "      <td>ST</td>\n",
              "      <td>92</td>\n",
              "      <td>92</td>\n",
              "      <td>119500000.0</td>\n",
              "      <td>270000.0</td>\n",
              "      <td>32</td>\n",
              "      <td>...</td>\n",
              "      <td>60+3</td>\n",
              "      <td>60+3</td>\n",
              "      <td>60+3</td>\n",
              "      <td>61+3</td>\n",
              "      <td>19+3</td>\n",
              "      <td>https://cdn.sofifa.net/players/188/545/22_120.png</td>\n",
              "      <td>https://cdn.sofifa.net/teams/21/60.png</td>\n",
              "      <td>https://cdn.sofifa.net/flags/de.png</td>\n",
              "      <td>https://cdn.sofifa.net/teams/1353/60.png</td>\n",
              "      <td>https://cdn.sofifa.net/flags/pl.png</td>\n",
              "    </tr>\n",
              "    <tr>\n",
              "      <th>2</th>\n",
              "      <td>20801</td>\n",
              "      <td>https://sofifa.com/player/20801/c-ronaldo-dos-...</td>\n",
              "      <td>Cristiano Ronaldo</td>\n",
              "      <td>Cristiano Ronaldo dos Santos Aveiro</td>\n",
              "      <td>ST, LW</td>\n",
              "      <td>91</td>\n",
              "      <td>91</td>\n",
              "      <td>45000000.0</td>\n",
              "      <td>270000.0</td>\n",
              "      <td>36</td>\n",
              "      <td>...</td>\n",
              "      <td>53+3</td>\n",
              "      <td>53+3</td>\n",
              "      <td>53+3</td>\n",
              "      <td>60+3</td>\n",
              "      <td>20+3</td>\n",
              "      <td>https://cdn.sofifa.net/players/020/801/22_120.png</td>\n",
              "      <td>https://cdn.sofifa.net/teams/11/60.png</td>\n",
              "      <td>https://cdn.sofifa.net/flags/gb-eng.png</td>\n",
              "      <td>https://cdn.sofifa.net/teams/1354/60.png</td>\n",
              "      <td>https://cdn.sofifa.net/flags/pt.png</td>\n",
              "    </tr>\n",
              "    <tr>\n",
              "      <th>3</th>\n",
              "      <td>190871</td>\n",
              "      <td>https://sofifa.com/player/190871/neymar-da-sil...</td>\n",
              "      <td>Neymar Jr</td>\n",
              "      <td>Neymar da Silva Santos Júnior</td>\n",
              "      <td>LW, CAM</td>\n",
              "      <td>91</td>\n",
              "      <td>91</td>\n",
              "      <td>129000000.0</td>\n",
              "      <td>270000.0</td>\n",
              "      <td>29</td>\n",
              "      <td>...</td>\n",
              "      <td>50+3</td>\n",
              "      <td>50+3</td>\n",
              "      <td>50+3</td>\n",
              "      <td>62+3</td>\n",
              "      <td>20+3</td>\n",
              "      <td>https://cdn.sofifa.net/players/190/871/22_120.png</td>\n",
              "      <td>https://cdn.sofifa.net/teams/73/60.png</td>\n",
              "      <td>https://cdn.sofifa.net/flags/fr.png</td>\n",
              "      <td>NaN</td>\n",
              "      <td>https://cdn.sofifa.net/flags/br.png</td>\n",
              "    </tr>\n",
              "    <tr>\n",
              "      <th>4</th>\n",
              "      <td>192985</td>\n",
              "      <td>https://sofifa.com/player/192985/kevin-de-bruy...</td>\n",
              "      <td>K. De Bruyne</td>\n",
              "      <td>Kevin De Bruyne</td>\n",
              "      <td>CM, CAM</td>\n",
              "      <td>91</td>\n",
              "      <td>91</td>\n",
              "      <td>125500000.0</td>\n",
              "      <td>350000.0</td>\n",
              "      <td>30</td>\n",
              "      <td>...</td>\n",
              "      <td>69+3</td>\n",
              "      <td>69+3</td>\n",
              "      <td>69+3</td>\n",
              "      <td>75+3</td>\n",
              "      <td>21+3</td>\n",
              "      <td>https://cdn.sofifa.net/players/192/985/22_120.png</td>\n",
              "      <td>https://cdn.sofifa.net/teams/10/60.png</td>\n",
              "      <td>https://cdn.sofifa.net/flags/gb-eng.png</td>\n",
              "      <td>https://cdn.sofifa.net/teams/1325/60.png</td>\n",
              "      <td>https://cdn.sofifa.net/flags/be.png</td>\n",
              "    </tr>\n",
              "  </tbody>\n",
              "</table>\n",
              "<p>5 rows × 110 columns</p>\n",
              "</div>\n",
              "    <div class=\"colab-df-buttons\">\n",
              "\n",
              "  <div class=\"colab-df-container\">\n",
              "    <button class=\"colab-df-convert\" onclick=\"convertToInteractive('df-708dd4aa-928e-45d0-a5b2-a0198a36617c')\"\n",
              "            title=\"Convert this dataframe to an interactive table.\"\n",
              "            style=\"display:none;\">\n",
              "\n",
              "  <svg xmlns=\"http://www.w3.org/2000/svg\" height=\"24px\" viewBox=\"0 -960 960 960\">\n",
              "    <path d=\"M120-120v-720h720v720H120Zm60-500h600v-160H180v160Zm220 220h160v-160H400v160Zm0 220h160v-160H400v160ZM180-400h160v-160H180v160Zm440 0h160v-160H620v160ZM180-180h160v-160H180v160Zm440 0h160v-160H620v160Z\"/>\n",
              "  </svg>\n",
              "    </button>\n",
              "\n",
              "  <style>\n",
              "    .colab-df-container {\n",
              "      display:flex;\n",
              "      gap: 12px;\n",
              "    }\n",
              "\n",
              "    .colab-df-convert {\n",
              "      background-color: #E8F0FE;\n",
              "      border: none;\n",
              "      border-radius: 50%;\n",
              "      cursor: pointer;\n",
              "      display: none;\n",
              "      fill: #1967D2;\n",
              "      height: 32px;\n",
              "      padding: 0 0 0 0;\n",
              "      width: 32px;\n",
              "    }\n",
              "\n",
              "    .colab-df-convert:hover {\n",
              "      background-color: #E2EBFA;\n",
              "      box-shadow: 0px 1px 2px rgba(60, 64, 67, 0.3), 0px 1px 3px 1px rgba(60, 64, 67, 0.15);\n",
              "      fill: #174EA6;\n",
              "    }\n",
              "\n",
              "    .colab-df-buttons div {\n",
              "      margin-bottom: 4px;\n",
              "    }\n",
              "\n",
              "    [theme=dark] .colab-df-convert {\n",
              "      background-color: #3B4455;\n",
              "      fill: #D2E3FC;\n",
              "    }\n",
              "\n",
              "    [theme=dark] .colab-df-convert:hover {\n",
              "      background-color: #434B5C;\n",
              "      box-shadow: 0px 1px 3px 1px rgba(0, 0, 0, 0.15);\n",
              "      filter: drop-shadow(0px 1px 2px rgba(0, 0, 0, 0.3));\n",
              "      fill: #FFFFFF;\n",
              "    }\n",
              "  </style>\n",
              "\n",
              "    <script>\n",
              "      const buttonEl =\n",
              "        document.querySelector('#df-708dd4aa-928e-45d0-a5b2-a0198a36617c button.colab-df-convert');\n",
              "      buttonEl.style.display =\n",
              "        google.colab.kernel.accessAllowed ? 'block' : 'none';\n",
              "\n",
              "      async function convertToInteractive(key) {\n",
              "        const element = document.querySelector('#df-708dd4aa-928e-45d0-a5b2-a0198a36617c');\n",
              "        const dataTable =\n",
              "          await google.colab.kernel.invokeFunction('convertToInteractive',\n",
              "                                                    [key], {});\n",
              "        if (!dataTable) return;\n",
              "\n",
              "        const docLinkHtml = 'Like what you see? Visit the ' +\n",
              "          '<a target=\"_blank\" href=https://colab.research.google.com/notebooks/data_table.ipynb>data table notebook</a>'\n",
              "          + ' to learn more about interactive tables.';\n",
              "        element.innerHTML = '';\n",
              "        dataTable['output_type'] = 'display_data';\n",
              "        await google.colab.output.renderOutput(dataTable, element);\n",
              "        const docLink = document.createElement('div');\n",
              "        docLink.innerHTML = docLinkHtml;\n",
              "        element.appendChild(docLink);\n",
              "      }\n",
              "    </script>\n",
              "  </div>\n",
              "\n",
              "\n",
              "<div id=\"df-0fba84ae-f701-43bf-b18d-ee25f983b3d5\">\n",
              "  <button class=\"colab-df-quickchart\" onclick=\"quickchart('df-0fba84ae-f701-43bf-b18d-ee25f983b3d5')\"\n",
              "            title=\"Suggest charts\"\n",
              "            style=\"display:none;\">\n",
              "\n",
              "<svg xmlns=\"http://www.w3.org/2000/svg\" height=\"24px\"viewBox=\"0 0 24 24\"\n",
              "     width=\"24px\">\n",
              "    <g>\n",
              "        <path d=\"M19 3H5c-1.1 0-2 .9-2 2v14c0 1.1.9 2 2 2h14c1.1 0 2-.9 2-2V5c0-1.1-.9-2-2-2zM9 17H7v-7h2v7zm4 0h-2V7h2v10zm4 0h-2v-4h2v4z\"/>\n",
              "    </g>\n",
              "</svg>\n",
              "  </button>\n",
              "\n",
              "<style>\n",
              "  .colab-df-quickchart {\n",
              "      --bg-color: #E8F0FE;\n",
              "      --fill-color: #1967D2;\n",
              "      --hover-bg-color: #E2EBFA;\n",
              "      --hover-fill-color: #174EA6;\n",
              "      --disabled-fill-color: #AAA;\n",
              "      --disabled-bg-color: #DDD;\n",
              "  }\n",
              "\n",
              "  [theme=dark] .colab-df-quickchart {\n",
              "      --bg-color: #3B4455;\n",
              "      --fill-color: #D2E3FC;\n",
              "      --hover-bg-color: #434B5C;\n",
              "      --hover-fill-color: #FFFFFF;\n",
              "      --disabled-bg-color: #3B4455;\n",
              "      --disabled-fill-color: #666;\n",
              "  }\n",
              "\n",
              "  .colab-df-quickchart {\n",
              "    background-color: var(--bg-color);\n",
              "    border: none;\n",
              "    border-radius: 50%;\n",
              "    cursor: pointer;\n",
              "    display: none;\n",
              "    fill: var(--fill-color);\n",
              "    height: 32px;\n",
              "    padding: 0;\n",
              "    width: 32px;\n",
              "  }\n",
              "\n",
              "  .colab-df-quickchart:hover {\n",
              "    background-color: var(--hover-bg-color);\n",
              "    box-shadow: 0 1px 2px rgba(60, 64, 67, 0.3), 0 1px 3px 1px rgba(60, 64, 67, 0.15);\n",
              "    fill: var(--button-hover-fill-color);\n",
              "  }\n",
              "\n",
              "  .colab-df-quickchart-complete:disabled,\n",
              "  .colab-df-quickchart-complete:disabled:hover {\n",
              "    background-color: var(--disabled-bg-color);\n",
              "    fill: var(--disabled-fill-color);\n",
              "    box-shadow: none;\n",
              "  }\n",
              "\n",
              "  .colab-df-spinner {\n",
              "    border: 2px solid var(--fill-color);\n",
              "    border-color: transparent;\n",
              "    border-bottom-color: var(--fill-color);\n",
              "    animation:\n",
              "      spin 1s steps(1) infinite;\n",
              "  }\n",
              "\n",
              "  @keyframes spin {\n",
              "    0% {\n",
              "      border-color: transparent;\n",
              "      border-bottom-color: var(--fill-color);\n",
              "      border-left-color: var(--fill-color);\n",
              "    }\n",
              "    20% {\n",
              "      border-color: transparent;\n",
              "      border-left-color: var(--fill-color);\n",
              "      border-top-color: var(--fill-color);\n",
              "    }\n",
              "    30% {\n",
              "      border-color: transparent;\n",
              "      border-left-color: var(--fill-color);\n",
              "      border-top-color: var(--fill-color);\n",
              "      border-right-color: var(--fill-color);\n",
              "    }\n",
              "    40% {\n",
              "      border-color: transparent;\n",
              "      border-right-color: var(--fill-color);\n",
              "      border-top-color: var(--fill-color);\n",
              "    }\n",
              "    60% {\n",
              "      border-color: transparent;\n",
              "      border-right-color: var(--fill-color);\n",
              "    }\n",
              "    80% {\n",
              "      border-color: transparent;\n",
              "      border-right-color: var(--fill-color);\n",
              "      border-bottom-color: var(--fill-color);\n",
              "    }\n",
              "    90% {\n",
              "      border-color: transparent;\n",
              "      border-bottom-color: var(--fill-color);\n",
              "    }\n",
              "  }\n",
              "</style>\n",
              "\n",
              "  <script>\n",
              "    async function quickchart(key) {\n",
              "      const quickchartButtonEl =\n",
              "        document.querySelector('#' + key + ' button');\n",
              "      quickchartButtonEl.disabled = true;  // To prevent multiple clicks.\n",
              "      quickchartButtonEl.classList.add('colab-df-spinner');\n",
              "      try {\n",
              "        const charts = await google.colab.kernel.invokeFunction(\n",
              "            'suggestCharts', [key], {});\n",
              "      } catch (error) {\n",
              "        console.error('Error during call to suggestCharts:', error);\n",
              "      }\n",
              "      quickchartButtonEl.classList.remove('colab-df-spinner');\n",
              "      quickchartButtonEl.classList.add('colab-df-quickchart-complete');\n",
              "    }\n",
              "    (() => {\n",
              "      let quickchartButtonEl =\n",
              "        document.querySelector('#df-0fba84ae-f701-43bf-b18d-ee25f983b3d5 button');\n",
              "      quickchartButtonEl.style.display =\n",
              "        google.colab.kernel.accessAllowed ? 'block' : 'none';\n",
              "    })();\n",
              "  </script>\n",
              "</div>\n",
              "    </div>\n",
              "  </div>\n"
            ]
          },
          "metadata": {},
          "execution_count": 206
        }
      ]
    },
    {
      "cell_type": "code",
      "source": [
        "df.info()"
      ],
      "metadata": {
        "colab": {
          "base_uri": "https://localhost:8080/"
        },
        "id": "YJlTpwkMBErX",
        "outputId": "b5dae10d-980a-4738-c279-7a92b8db1819"
      },
      "execution_count": null,
      "outputs": [
        {
          "output_type": "stream",
          "name": "stdout",
          "text": [
            "<class 'pandas.core.frame.DataFrame'>\n",
            "RangeIndex: 19239 entries, 0 to 19238\n",
            "Columns: 110 entries, sofifa_id to nation_flag_url\n",
            "dtypes: float64(16), int64(44), object(50)\n",
            "memory usage: 16.1+ MB\n"
          ]
        }
      ]
    },
    {
      "cell_type": "code",
      "source": [
        "#Display Descriptive Summary of the dataset\n",
        "df.describe()"
      ],
      "metadata": {
        "colab": {
          "base_uri": "https://localhost:8080/",
          "height": 349
        },
        "id": "DRM5qXznBI2U",
        "outputId": "978dd40a-07b3-47b6-a450-eccd282525c9"
      },
      "execution_count": null,
      "outputs": [
        {
          "output_type": "execute_result",
          "data": {
            "text/plain": [
              "           sofifa_id       overall     potential     value_eur       wage_eur  \\\n",
              "count   19239.000000  19239.000000  19239.000000  1.916500e+04   19178.000000   \n",
              "mean   231468.086959     65.772182     71.079370  2.850452e+06    9017.989363   \n",
              "std     27039.717497      6.880232      6.086213  7.613700e+06   19470.176724   \n",
              "min        41.000000     47.000000     49.000000  9.000000e+03     500.000000   \n",
              "25%    214413.500000     61.000000     67.000000  4.750000e+05    1000.000000   \n",
              "50%    236543.000000     66.000000     71.000000  9.750000e+05    3000.000000   \n",
              "75%    253532.500000     70.000000     75.000000  2.000000e+06    8000.000000   \n",
              "max    264640.000000     93.000000     95.000000  1.940000e+08  350000.000000   \n",
              "\n",
              "                age     height_cm     weight_kg   club_team_id  league_level  \\\n",
              "count  19239.000000  19239.000000  19239.000000   19178.000000  19178.000000   \n",
              "mean      25.210822    181.299704     74.943032   50580.498123      1.354364   \n",
              "std        4.748235      6.863179      7.069434   54401.868535      0.747865   \n",
              "min       16.000000    155.000000     49.000000       1.000000      1.000000   \n",
              "25%       21.000000    176.000000     70.000000     479.000000      1.000000   \n",
              "50%       25.000000    181.000000     75.000000    1938.000000      1.000000   \n",
              "75%       29.000000    186.000000     80.000000  111139.000000      1.000000   \n",
              "max       54.000000    206.000000    110.000000  115820.000000      5.000000   \n",
              "\n",
              "       ...  mentality_composure  defending_marking_awareness  \\\n",
              "count  ...         19239.000000                 19239.000000   \n",
              "mean   ...            57.929830                    46.601746   \n",
              "std    ...            12.159326                    20.200807   \n",
              "min    ...            12.000000                     4.000000   \n",
              "25%    ...            50.000000                    29.000000   \n",
              "50%    ...            59.000000                    52.000000   \n",
              "75%    ...            66.000000                    63.000000   \n",
              "max    ...            96.000000                    93.000000   \n",
              "\n",
              "       defending_standing_tackle  defending_sliding_tackle  \\\n",
              "count               19239.000000              19239.000000   \n",
              "mean                   48.045584                 45.906700   \n",
              "std                    21.232718                 20.755683   \n",
              "min                     5.000000                  5.000000   \n",
              "25%                    28.000000                 25.000000   \n",
              "50%                    56.000000                 53.000000   \n",
              "75%                    65.000000                 63.000000   \n",
              "max                    93.000000                 92.000000   \n",
              "\n",
              "       goalkeeping_diving  goalkeeping_handling  goalkeeping_kicking  \\\n",
              "count        19239.000000          19239.000000         19239.000000   \n",
              "mean            16.406102             16.192474            16.055356   \n",
              "std             17.574028             16.839528            16.564554   \n",
              "min              2.000000              2.000000             2.000000   \n",
              "25%              8.000000              8.000000             8.000000   \n",
              "50%             11.000000             11.000000            11.000000   \n",
              "75%             14.000000             14.000000            14.000000   \n",
              "max             91.000000             92.000000            93.000000   \n",
              "\n",
              "       goalkeeping_positioning  goalkeeping_reflexes  goalkeeping_speed  \n",
              "count             19239.000000          19239.000000        2132.000000  \n",
              "mean                 16.229274             16.491814          36.439962  \n",
              "std                  17.059779             17.884833          10.751563  \n",
              "min                   2.000000              2.000000          15.000000  \n",
              "25%                   8.000000              8.000000          27.000000  \n",
              "50%                  11.000000             11.000000          36.000000  \n",
              "75%                  14.000000             14.000000          45.000000  \n",
              "max                  92.000000             90.000000          65.000000  \n",
              "\n",
              "[8 rows x 60 columns]"
            ],
            "text/html": [
              "\n",
              "  <div id=\"df-4e128db0-c0a1-4de8-b660-02f296389e9d\" class=\"colab-df-container\">\n",
              "    <div>\n",
              "<style scoped>\n",
              "    .dataframe tbody tr th:only-of-type {\n",
              "        vertical-align: middle;\n",
              "    }\n",
              "\n",
              "    .dataframe tbody tr th {\n",
              "        vertical-align: top;\n",
              "    }\n",
              "\n",
              "    .dataframe thead th {\n",
              "        text-align: right;\n",
              "    }\n",
              "</style>\n",
              "<table border=\"1\" class=\"dataframe\">\n",
              "  <thead>\n",
              "    <tr style=\"text-align: right;\">\n",
              "      <th></th>\n",
              "      <th>sofifa_id</th>\n",
              "      <th>overall</th>\n",
              "      <th>potential</th>\n",
              "      <th>value_eur</th>\n",
              "      <th>wage_eur</th>\n",
              "      <th>age</th>\n",
              "      <th>height_cm</th>\n",
              "      <th>weight_kg</th>\n",
              "      <th>club_team_id</th>\n",
              "      <th>league_level</th>\n",
              "      <th>...</th>\n",
              "      <th>mentality_composure</th>\n",
              "      <th>defending_marking_awareness</th>\n",
              "      <th>defending_standing_tackle</th>\n",
              "      <th>defending_sliding_tackle</th>\n",
              "      <th>goalkeeping_diving</th>\n",
              "      <th>goalkeeping_handling</th>\n",
              "      <th>goalkeeping_kicking</th>\n",
              "      <th>goalkeeping_positioning</th>\n",
              "      <th>goalkeeping_reflexes</th>\n",
              "      <th>goalkeeping_speed</th>\n",
              "    </tr>\n",
              "  </thead>\n",
              "  <tbody>\n",
              "    <tr>\n",
              "      <th>count</th>\n",
              "      <td>19239.000000</td>\n",
              "      <td>19239.000000</td>\n",
              "      <td>19239.000000</td>\n",
              "      <td>1.916500e+04</td>\n",
              "      <td>19178.000000</td>\n",
              "      <td>19239.000000</td>\n",
              "      <td>19239.000000</td>\n",
              "      <td>19239.000000</td>\n",
              "      <td>19178.000000</td>\n",
              "      <td>19178.000000</td>\n",
              "      <td>...</td>\n",
              "      <td>19239.000000</td>\n",
              "      <td>19239.000000</td>\n",
              "      <td>19239.000000</td>\n",
              "      <td>19239.000000</td>\n",
              "      <td>19239.000000</td>\n",
              "      <td>19239.000000</td>\n",
              "      <td>19239.000000</td>\n",
              "      <td>19239.000000</td>\n",
              "      <td>19239.000000</td>\n",
              "      <td>2132.000000</td>\n",
              "    </tr>\n",
              "    <tr>\n",
              "      <th>mean</th>\n",
              "      <td>231468.086959</td>\n",
              "      <td>65.772182</td>\n",
              "      <td>71.079370</td>\n",
              "      <td>2.850452e+06</td>\n",
              "      <td>9017.989363</td>\n",
              "      <td>25.210822</td>\n",
              "      <td>181.299704</td>\n",
              "      <td>74.943032</td>\n",
              "      <td>50580.498123</td>\n",
              "      <td>1.354364</td>\n",
              "      <td>...</td>\n",
              "      <td>57.929830</td>\n",
              "      <td>46.601746</td>\n",
              "      <td>48.045584</td>\n",
              "      <td>45.906700</td>\n",
              "      <td>16.406102</td>\n",
              "      <td>16.192474</td>\n",
              "      <td>16.055356</td>\n",
              "      <td>16.229274</td>\n",
              "      <td>16.491814</td>\n",
              "      <td>36.439962</td>\n",
              "    </tr>\n",
              "    <tr>\n",
              "      <th>std</th>\n",
              "      <td>27039.717497</td>\n",
              "      <td>6.880232</td>\n",
              "      <td>6.086213</td>\n",
              "      <td>7.613700e+06</td>\n",
              "      <td>19470.176724</td>\n",
              "      <td>4.748235</td>\n",
              "      <td>6.863179</td>\n",
              "      <td>7.069434</td>\n",
              "      <td>54401.868535</td>\n",
              "      <td>0.747865</td>\n",
              "      <td>...</td>\n",
              "      <td>12.159326</td>\n",
              "      <td>20.200807</td>\n",
              "      <td>21.232718</td>\n",
              "      <td>20.755683</td>\n",
              "      <td>17.574028</td>\n",
              "      <td>16.839528</td>\n",
              "      <td>16.564554</td>\n",
              "      <td>17.059779</td>\n",
              "      <td>17.884833</td>\n",
              "      <td>10.751563</td>\n",
              "    </tr>\n",
              "    <tr>\n",
              "      <th>min</th>\n",
              "      <td>41.000000</td>\n",
              "      <td>47.000000</td>\n",
              "      <td>49.000000</td>\n",
              "      <td>9.000000e+03</td>\n",
              "      <td>500.000000</td>\n",
              "      <td>16.000000</td>\n",
              "      <td>155.000000</td>\n",
              "      <td>49.000000</td>\n",
              "      <td>1.000000</td>\n",
              "      <td>1.000000</td>\n",
              "      <td>...</td>\n",
              "      <td>12.000000</td>\n",
              "      <td>4.000000</td>\n",
              "      <td>5.000000</td>\n",
              "      <td>5.000000</td>\n",
              "      <td>2.000000</td>\n",
              "      <td>2.000000</td>\n",
              "      <td>2.000000</td>\n",
              "      <td>2.000000</td>\n",
              "      <td>2.000000</td>\n",
              "      <td>15.000000</td>\n",
              "    </tr>\n",
              "    <tr>\n",
              "      <th>25%</th>\n",
              "      <td>214413.500000</td>\n",
              "      <td>61.000000</td>\n",
              "      <td>67.000000</td>\n",
              "      <td>4.750000e+05</td>\n",
              "      <td>1000.000000</td>\n",
              "      <td>21.000000</td>\n",
              "      <td>176.000000</td>\n",
              "      <td>70.000000</td>\n",
              "      <td>479.000000</td>\n",
              "      <td>1.000000</td>\n",
              "      <td>...</td>\n",
              "      <td>50.000000</td>\n",
              "      <td>29.000000</td>\n",
              "      <td>28.000000</td>\n",
              "      <td>25.000000</td>\n",
              "      <td>8.000000</td>\n",
              "      <td>8.000000</td>\n",
              "      <td>8.000000</td>\n",
              "      <td>8.000000</td>\n",
              "      <td>8.000000</td>\n",
              "      <td>27.000000</td>\n",
              "    </tr>\n",
              "    <tr>\n",
              "      <th>50%</th>\n",
              "      <td>236543.000000</td>\n",
              "      <td>66.000000</td>\n",
              "      <td>71.000000</td>\n",
              "      <td>9.750000e+05</td>\n",
              "      <td>3000.000000</td>\n",
              "      <td>25.000000</td>\n",
              "      <td>181.000000</td>\n",
              "      <td>75.000000</td>\n",
              "      <td>1938.000000</td>\n",
              "      <td>1.000000</td>\n",
              "      <td>...</td>\n",
              "      <td>59.000000</td>\n",
              "      <td>52.000000</td>\n",
              "      <td>56.000000</td>\n",
              "      <td>53.000000</td>\n",
              "      <td>11.000000</td>\n",
              "      <td>11.000000</td>\n",
              "      <td>11.000000</td>\n",
              "      <td>11.000000</td>\n",
              "      <td>11.000000</td>\n",
              "      <td>36.000000</td>\n",
              "    </tr>\n",
              "    <tr>\n",
              "      <th>75%</th>\n",
              "      <td>253532.500000</td>\n",
              "      <td>70.000000</td>\n",
              "      <td>75.000000</td>\n",
              "      <td>2.000000e+06</td>\n",
              "      <td>8000.000000</td>\n",
              "      <td>29.000000</td>\n",
              "      <td>186.000000</td>\n",
              "      <td>80.000000</td>\n",
              "      <td>111139.000000</td>\n",
              "      <td>1.000000</td>\n",
              "      <td>...</td>\n",
              "      <td>66.000000</td>\n",
              "      <td>63.000000</td>\n",
              "      <td>65.000000</td>\n",
              "      <td>63.000000</td>\n",
              "      <td>14.000000</td>\n",
              "      <td>14.000000</td>\n",
              "      <td>14.000000</td>\n",
              "      <td>14.000000</td>\n",
              "      <td>14.000000</td>\n",
              "      <td>45.000000</td>\n",
              "    </tr>\n",
              "    <tr>\n",
              "      <th>max</th>\n",
              "      <td>264640.000000</td>\n",
              "      <td>93.000000</td>\n",
              "      <td>95.000000</td>\n",
              "      <td>1.940000e+08</td>\n",
              "      <td>350000.000000</td>\n",
              "      <td>54.000000</td>\n",
              "      <td>206.000000</td>\n",
              "      <td>110.000000</td>\n",
              "      <td>115820.000000</td>\n",
              "      <td>5.000000</td>\n",
              "      <td>...</td>\n",
              "      <td>96.000000</td>\n",
              "      <td>93.000000</td>\n",
              "      <td>93.000000</td>\n",
              "      <td>92.000000</td>\n",
              "      <td>91.000000</td>\n",
              "      <td>92.000000</td>\n",
              "      <td>93.000000</td>\n",
              "      <td>92.000000</td>\n",
              "      <td>90.000000</td>\n",
              "      <td>65.000000</td>\n",
              "    </tr>\n",
              "  </tbody>\n",
              "</table>\n",
              "<p>8 rows × 60 columns</p>\n",
              "</div>\n",
              "    <div class=\"colab-df-buttons\">\n",
              "\n",
              "  <div class=\"colab-df-container\">\n",
              "    <button class=\"colab-df-convert\" onclick=\"convertToInteractive('df-4e128db0-c0a1-4de8-b660-02f296389e9d')\"\n",
              "            title=\"Convert this dataframe to an interactive table.\"\n",
              "            style=\"display:none;\">\n",
              "\n",
              "  <svg xmlns=\"http://www.w3.org/2000/svg\" height=\"24px\" viewBox=\"0 -960 960 960\">\n",
              "    <path d=\"M120-120v-720h720v720H120Zm60-500h600v-160H180v160Zm220 220h160v-160H400v160Zm0 220h160v-160H400v160ZM180-400h160v-160H180v160Zm440 0h160v-160H620v160ZM180-180h160v-160H180v160Zm440 0h160v-160H620v160Z\"/>\n",
              "  </svg>\n",
              "    </button>\n",
              "\n",
              "  <style>\n",
              "    .colab-df-container {\n",
              "      display:flex;\n",
              "      gap: 12px;\n",
              "    }\n",
              "\n",
              "    .colab-df-convert {\n",
              "      background-color: #E8F0FE;\n",
              "      border: none;\n",
              "      border-radius: 50%;\n",
              "      cursor: pointer;\n",
              "      display: none;\n",
              "      fill: #1967D2;\n",
              "      height: 32px;\n",
              "      padding: 0 0 0 0;\n",
              "      width: 32px;\n",
              "    }\n",
              "\n",
              "    .colab-df-convert:hover {\n",
              "      background-color: #E2EBFA;\n",
              "      box-shadow: 0px 1px 2px rgba(60, 64, 67, 0.3), 0px 1px 3px 1px rgba(60, 64, 67, 0.15);\n",
              "      fill: #174EA6;\n",
              "    }\n",
              "\n",
              "    .colab-df-buttons div {\n",
              "      margin-bottom: 4px;\n",
              "    }\n",
              "\n",
              "    [theme=dark] .colab-df-convert {\n",
              "      background-color: #3B4455;\n",
              "      fill: #D2E3FC;\n",
              "    }\n",
              "\n",
              "    [theme=dark] .colab-df-convert:hover {\n",
              "      background-color: #434B5C;\n",
              "      box-shadow: 0px 1px 3px 1px rgba(0, 0, 0, 0.15);\n",
              "      filter: drop-shadow(0px 1px 2px rgba(0, 0, 0, 0.3));\n",
              "      fill: #FFFFFF;\n",
              "    }\n",
              "  </style>\n",
              "\n",
              "    <script>\n",
              "      const buttonEl =\n",
              "        document.querySelector('#df-4e128db0-c0a1-4de8-b660-02f296389e9d button.colab-df-convert');\n",
              "      buttonEl.style.display =\n",
              "        google.colab.kernel.accessAllowed ? 'block' : 'none';\n",
              "\n",
              "      async function convertToInteractive(key) {\n",
              "        const element = document.querySelector('#df-4e128db0-c0a1-4de8-b660-02f296389e9d');\n",
              "        const dataTable =\n",
              "          await google.colab.kernel.invokeFunction('convertToInteractive',\n",
              "                                                    [key], {});\n",
              "        if (!dataTable) return;\n",
              "\n",
              "        const docLinkHtml = 'Like what you see? Visit the ' +\n",
              "          '<a target=\"_blank\" href=https://colab.research.google.com/notebooks/data_table.ipynb>data table notebook</a>'\n",
              "          + ' to learn more about interactive tables.';\n",
              "        element.innerHTML = '';\n",
              "        dataTable['output_type'] = 'display_data';\n",
              "        await google.colab.output.renderOutput(dataTable, element);\n",
              "        const docLink = document.createElement('div');\n",
              "        docLink.innerHTML = docLinkHtml;\n",
              "        element.appendChild(docLink);\n",
              "      }\n",
              "    </script>\n",
              "  </div>\n",
              "\n",
              "\n",
              "<div id=\"df-126ab9c9-8741-44ca-9437-edf754711206\">\n",
              "  <button class=\"colab-df-quickchart\" onclick=\"quickchart('df-126ab9c9-8741-44ca-9437-edf754711206')\"\n",
              "            title=\"Suggest charts\"\n",
              "            style=\"display:none;\">\n",
              "\n",
              "<svg xmlns=\"http://www.w3.org/2000/svg\" height=\"24px\"viewBox=\"0 0 24 24\"\n",
              "     width=\"24px\">\n",
              "    <g>\n",
              "        <path d=\"M19 3H5c-1.1 0-2 .9-2 2v14c0 1.1.9 2 2 2h14c1.1 0 2-.9 2-2V5c0-1.1-.9-2-2-2zM9 17H7v-7h2v7zm4 0h-2V7h2v10zm4 0h-2v-4h2v4z\"/>\n",
              "    </g>\n",
              "</svg>\n",
              "  </button>\n",
              "\n",
              "<style>\n",
              "  .colab-df-quickchart {\n",
              "      --bg-color: #E8F0FE;\n",
              "      --fill-color: #1967D2;\n",
              "      --hover-bg-color: #E2EBFA;\n",
              "      --hover-fill-color: #174EA6;\n",
              "      --disabled-fill-color: #AAA;\n",
              "      --disabled-bg-color: #DDD;\n",
              "  }\n",
              "\n",
              "  [theme=dark] .colab-df-quickchart {\n",
              "      --bg-color: #3B4455;\n",
              "      --fill-color: #D2E3FC;\n",
              "      --hover-bg-color: #434B5C;\n",
              "      --hover-fill-color: #FFFFFF;\n",
              "      --disabled-bg-color: #3B4455;\n",
              "      --disabled-fill-color: #666;\n",
              "  }\n",
              "\n",
              "  .colab-df-quickchart {\n",
              "    background-color: var(--bg-color);\n",
              "    border: none;\n",
              "    border-radius: 50%;\n",
              "    cursor: pointer;\n",
              "    display: none;\n",
              "    fill: var(--fill-color);\n",
              "    height: 32px;\n",
              "    padding: 0;\n",
              "    width: 32px;\n",
              "  }\n",
              "\n",
              "  .colab-df-quickchart:hover {\n",
              "    background-color: var(--hover-bg-color);\n",
              "    box-shadow: 0 1px 2px rgba(60, 64, 67, 0.3), 0 1px 3px 1px rgba(60, 64, 67, 0.15);\n",
              "    fill: var(--button-hover-fill-color);\n",
              "  }\n",
              "\n",
              "  .colab-df-quickchart-complete:disabled,\n",
              "  .colab-df-quickchart-complete:disabled:hover {\n",
              "    background-color: var(--disabled-bg-color);\n",
              "    fill: var(--disabled-fill-color);\n",
              "    box-shadow: none;\n",
              "  }\n",
              "\n",
              "  .colab-df-spinner {\n",
              "    border: 2px solid var(--fill-color);\n",
              "    border-color: transparent;\n",
              "    border-bottom-color: var(--fill-color);\n",
              "    animation:\n",
              "      spin 1s steps(1) infinite;\n",
              "  }\n",
              "\n",
              "  @keyframes spin {\n",
              "    0% {\n",
              "      border-color: transparent;\n",
              "      border-bottom-color: var(--fill-color);\n",
              "      border-left-color: var(--fill-color);\n",
              "    }\n",
              "    20% {\n",
              "      border-color: transparent;\n",
              "      border-left-color: var(--fill-color);\n",
              "      border-top-color: var(--fill-color);\n",
              "    }\n",
              "    30% {\n",
              "      border-color: transparent;\n",
              "      border-left-color: var(--fill-color);\n",
              "      border-top-color: var(--fill-color);\n",
              "      border-right-color: var(--fill-color);\n",
              "    }\n",
              "    40% {\n",
              "      border-color: transparent;\n",
              "      border-right-color: var(--fill-color);\n",
              "      border-top-color: var(--fill-color);\n",
              "    }\n",
              "    60% {\n",
              "      border-color: transparent;\n",
              "      border-right-color: var(--fill-color);\n",
              "    }\n",
              "    80% {\n",
              "      border-color: transparent;\n",
              "      border-right-color: var(--fill-color);\n",
              "      border-bottom-color: var(--fill-color);\n",
              "    }\n",
              "    90% {\n",
              "      border-color: transparent;\n",
              "      border-bottom-color: var(--fill-color);\n",
              "    }\n",
              "  }\n",
              "</style>\n",
              "\n",
              "  <script>\n",
              "    async function quickchart(key) {\n",
              "      const quickchartButtonEl =\n",
              "        document.querySelector('#' + key + ' button');\n",
              "      quickchartButtonEl.disabled = true;  // To prevent multiple clicks.\n",
              "      quickchartButtonEl.classList.add('colab-df-spinner');\n",
              "      try {\n",
              "        const charts = await google.colab.kernel.invokeFunction(\n",
              "            'suggestCharts', [key], {});\n",
              "      } catch (error) {\n",
              "        console.error('Error during call to suggestCharts:', error);\n",
              "      }\n",
              "      quickchartButtonEl.classList.remove('colab-df-spinner');\n",
              "      quickchartButtonEl.classList.add('colab-df-quickchart-complete');\n",
              "    }\n",
              "    (() => {\n",
              "      let quickchartButtonEl =\n",
              "        document.querySelector('#df-126ab9c9-8741-44ca-9437-edf754711206 button');\n",
              "      quickchartButtonEl.style.display =\n",
              "        google.colab.kernel.accessAllowed ? 'block' : 'none';\n",
              "    })();\n",
              "  </script>\n",
              "</div>\n",
              "    </div>\n",
              "  </div>\n"
            ]
          },
          "metadata": {},
          "execution_count": 182
        }
      ]
    },
    {
      "cell_type": "code",
      "source": [
        "df.columns"
      ],
      "metadata": {
        "colab": {
          "base_uri": "https://localhost:8080/"
        },
        "id": "ngNT-gdOfEpc",
        "outputId": "cf6c715b-dba0-4a7a-85a3-16fe4a20eee0"
      },
      "execution_count": null,
      "outputs": [
        {
          "output_type": "execute_result",
          "data": {
            "text/plain": [
              "Index(['sofifa_id', 'player_url', 'short_name', 'long_name',\n",
              "       'player_positions', 'overall', 'potential', 'value_eur', 'wage_eur',\n",
              "       'age',\n",
              "       ...\n",
              "       'lcb', 'cb', 'rcb', 'rb', 'gk', 'player_face_url', 'club_logo_url',\n",
              "       'club_flag_url', 'nation_logo_url', 'nation_flag_url'],\n",
              "      dtype='object', length=110)"
            ]
          },
          "metadata": {},
          "execution_count": 3
        }
      ]
    },
    {
      "cell_type": "code",
      "source": [
        "df.dtypes"
      ],
      "metadata": {
        "colab": {
          "base_uri": "https://localhost:8080/"
        },
        "id": "KXJvePnHLrbw",
        "outputId": "e9ca6981-1ec1-4f98-c5be-9835d98c15be"
      },
      "execution_count": null,
      "outputs": [
        {
          "output_type": "execute_result",
          "data": {
            "text/plain": [
              "sofifa_id            int64\n",
              "player_url          object\n",
              "short_name          object\n",
              "long_name           object\n",
              "player_positions    object\n",
              "                     ...  \n",
              "player_face_url     object\n",
              "club_logo_url       object\n",
              "club_flag_url       object\n",
              "nation_logo_url     object\n",
              "nation_flag_url     object\n",
              "Length: 110, dtype: object"
            ]
          },
          "metadata": {},
          "execution_count": 184
        }
      ]
    },
    {
      "cell_type": "code",
      "source": [
        "df.isnull().sum()"
      ],
      "metadata": {
        "colab": {
          "base_uri": "https://localhost:8080/"
        },
        "id": "ueP9FQdNMdMY",
        "outputId": "a3134f58-4ed7-4762-890c-36e1e744e07f"
      },
      "execution_count": null,
      "outputs": [
        {
          "output_type": "execute_result",
          "data": {
            "text/plain": [
              "sofifa_id               0\n",
              "player_url              0\n",
              "short_name              0\n",
              "long_name               0\n",
              "player_positions        0\n",
              "                    ...  \n",
              "player_face_url         0\n",
              "club_logo_url          61\n",
              "club_flag_url          61\n",
              "nation_logo_url     18480\n",
              "nation_flag_url         0\n",
              "Length: 110, dtype: int64"
            ]
          },
          "metadata": {},
          "execution_count": 185
        }
      ]
    },
    {
      "cell_type": "code",
      "source": [
        "#Remove irrelevant columns from the dataset\n",
        "useless_columns = ['player_url','long_name','dob','club_loaned_from','nation_position','nation_jersey_number','body_type','real_face','player_face_url','club_logo_url','club_flag_url','nation_logo_url','nation_flag_url','player_tags','nation_team_id']\n",
        "df = df.drop(useless_columns, axis=1)"
      ],
      "metadata": {
        "id": "uLse0QSXM1oX"
      },
      "execution_count": 3,
      "outputs": []
    },
    {
      "cell_type": "code",
      "source": [
        "df.head()"
      ],
      "metadata": {
        "colab": {
          "base_uri": "https://localhost:8080/",
          "height": 235
        },
        "id": "Ej0NWoT-68Zs",
        "outputId": "cb73edca-8965-4647-ab58-ef89bf3b808d"
      },
      "execution_count": null,
      "outputs": [
        {
          "output_type": "execute_result",
          "data": {
            "text/plain": [
              "   sofifa_id         short_name player_positions  overall  potential  \\\n",
              "0     158023           L. Messi       RW, ST, CF       93         93   \n",
              "1     188545     R. Lewandowski               ST       92         92   \n",
              "2      20801  Cristiano Ronaldo           ST, LW       91         91   \n",
              "3     190871          Neymar Jr          LW, CAM       91         91   \n",
              "4     192985       K. De Bruyne          CM, CAM       91         91   \n",
              "\n",
              "     value_eur  wage_eur  age  height_cm  weight_kg  ...   ldm   cdm   rdm  \\\n",
              "0   78000000.0  320000.0   34        170         72  ...  64+3  64+3  64+3   \n",
              "1  119500000.0  270000.0   32        185         81  ...  66+3  66+3  66+3   \n",
              "2   45000000.0  270000.0   36        187         83  ...  59+3  59+3  59+3   \n",
              "3  129000000.0  270000.0   29        175         68  ...  63+3  63+3  63+3   \n",
              "4  125500000.0  350000.0   30        181         70  ...  80+3  80+3  80+3   \n",
              "\n",
              "    rwb    lb   lcb    cb   rcb    rb    gk  \n",
              "0  66+3  61+3  50+3  50+3  50+3  61+3  19+3  \n",
              "1  64+3  61+3  60+3  60+3  60+3  61+3  19+3  \n",
              "2  63+3  60+3  53+3  53+3  53+3  60+3  20+3  \n",
              "3  67+3  62+3  50+3  50+3  50+3  62+3  20+3  \n",
              "4  79+3  75+3  69+3  69+3  69+3  75+3  21+3  \n",
              "\n",
              "[5 rows x 95 columns]"
            ],
            "text/html": [
              "\n",
              "  <div id=\"df-0a528904-49f3-428b-ab67-b555780b20fd\" class=\"colab-df-container\">\n",
              "    <div>\n",
              "<style scoped>\n",
              "    .dataframe tbody tr th:only-of-type {\n",
              "        vertical-align: middle;\n",
              "    }\n",
              "\n",
              "    .dataframe tbody tr th {\n",
              "        vertical-align: top;\n",
              "    }\n",
              "\n",
              "    .dataframe thead th {\n",
              "        text-align: right;\n",
              "    }\n",
              "</style>\n",
              "<table border=\"1\" class=\"dataframe\">\n",
              "  <thead>\n",
              "    <tr style=\"text-align: right;\">\n",
              "      <th></th>\n",
              "      <th>sofifa_id</th>\n",
              "      <th>short_name</th>\n",
              "      <th>player_positions</th>\n",
              "      <th>overall</th>\n",
              "      <th>potential</th>\n",
              "      <th>value_eur</th>\n",
              "      <th>wage_eur</th>\n",
              "      <th>age</th>\n",
              "      <th>height_cm</th>\n",
              "      <th>weight_kg</th>\n",
              "      <th>...</th>\n",
              "      <th>ldm</th>\n",
              "      <th>cdm</th>\n",
              "      <th>rdm</th>\n",
              "      <th>rwb</th>\n",
              "      <th>lb</th>\n",
              "      <th>lcb</th>\n",
              "      <th>cb</th>\n",
              "      <th>rcb</th>\n",
              "      <th>rb</th>\n",
              "      <th>gk</th>\n",
              "    </tr>\n",
              "  </thead>\n",
              "  <tbody>\n",
              "    <tr>\n",
              "      <th>0</th>\n",
              "      <td>158023</td>\n",
              "      <td>L. Messi</td>\n",
              "      <td>RW, ST, CF</td>\n",
              "      <td>93</td>\n",
              "      <td>93</td>\n",
              "      <td>78000000.0</td>\n",
              "      <td>320000.0</td>\n",
              "      <td>34</td>\n",
              "      <td>170</td>\n",
              "      <td>72</td>\n",
              "      <td>...</td>\n",
              "      <td>64+3</td>\n",
              "      <td>64+3</td>\n",
              "      <td>64+3</td>\n",
              "      <td>66+3</td>\n",
              "      <td>61+3</td>\n",
              "      <td>50+3</td>\n",
              "      <td>50+3</td>\n",
              "      <td>50+3</td>\n",
              "      <td>61+3</td>\n",
              "      <td>19+3</td>\n",
              "    </tr>\n",
              "    <tr>\n",
              "      <th>1</th>\n",
              "      <td>188545</td>\n",
              "      <td>R. Lewandowski</td>\n",
              "      <td>ST</td>\n",
              "      <td>92</td>\n",
              "      <td>92</td>\n",
              "      <td>119500000.0</td>\n",
              "      <td>270000.0</td>\n",
              "      <td>32</td>\n",
              "      <td>185</td>\n",
              "      <td>81</td>\n",
              "      <td>...</td>\n",
              "      <td>66+3</td>\n",
              "      <td>66+3</td>\n",
              "      <td>66+3</td>\n",
              "      <td>64+3</td>\n",
              "      <td>61+3</td>\n",
              "      <td>60+3</td>\n",
              "      <td>60+3</td>\n",
              "      <td>60+3</td>\n",
              "      <td>61+3</td>\n",
              "      <td>19+3</td>\n",
              "    </tr>\n",
              "    <tr>\n",
              "      <th>2</th>\n",
              "      <td>20801</td>\n",
              "      <td>Cristiano Ronaldo</td>\n",
              "      <td>ST, LW</td>\n",
              "      <td>91</td>\n",
              "      <td>91</td>\n",
              "      <td>45000000.0</td>\n",
              "      <td>270000.0</td>\n",
              "      <td>36</td>\n",
              "      <td>187</td>\n",
              "      <td>83</td>\n",
              "      <td>...</td>\n",
              "      <td>59+3</td>\n",
              "      <td>59+3</td>\n",
              "      <td>59+3</td>\n",
              "      <td>63+3</td>\n",
              "      <td>60+3</td>\n",
              "      <td>53+3</td>\n",
              "      <td>53+3</td>\n",
              "      <td>53+3</td>\n",
              "      <td>60+3</td>\n",
              "      <td>20+3</td>\n",
              "    </tr>\n",
              "    <tr>\n",
              "      <th>3</th>\n",
              "      <td>190871</td>\n",
              "      <td>Neymar Jr</td>\n",
              "      <td>LW, CAM</td>\n",
              "      <td>91</td>\n",
              "      <td>91</td>\n",
              "      <td>129000000.0</td>\n",
              "      <td>270000.0</td>\n",
              "      <td>29</td>\n",
              "      <td>175</td>\n",
              "      <td>68</td>\n",
              "      <td>...</td>\n",
              "      <td>63+3</td>\n",
              "      <td>63+3</td>\n",
              "      <td>63+3</td>\n",
              "      <td>67+3</td>\n",
              "      <td>62+3</td>\n",
              "      <td>50+3</td>\n",
              "      <td>50+3</td>\n",
              "      <td>50+3</td>\n",
              "      <td>62+3</td>\n",
              "      <td>20+3</td>\n",
              "    </tr>\n",
              "    <tr>\n",
              "      <th>4</th>\n",
              "      <td>192985</td>\n",
              "      <td>K. De Bruyne</td>\n",
              "      <td>CM, CAM</td>\n",
              "      <td>91</td>\n",
              "      <td>91</td>\n",
              "      <td>125500000.0</td>\n",
              "      <td>350000.0</td>\n",
              "      <td>30</td>\n",
              "      <td>181</td>\n",
              "      <td>70</td>\n",
              "      <td>...</td>\n",
              "      <td>80+3</td>\n",
              "      <td>80+3</td>\n",
              "      <td>80+3</td>\n",
              "      <td>79+3</td>\n",
              "      <td>75+3</td>\n",
              "      <td>69+3</td>\n",
              "      <td>69+3</td>\n",
              "      <td>69+3</td>\n",
              "      <td>75+3</td>\n",
              "      <td>21+3</td>\n",
              "    </tr>\n",
              "  </tbody>\n",
              "</table>\n",
              "<p>5 rows × 95 columns</p>\n",
              "</div>\n",
              "    <div class=\"colab-df-buttons\">\n",
              "\n",
              "  <div class=\"colab-df-container\">\n",
              "    <button class=\"colab-df-convert\" onclick=\"convertToInteractive('df-0a528904-49f3-428b-ab67-b555780b20fd')\"\n",
              "            title=\"Convert this dataframe to an interactive table.\"\n",
              "            style=\"display:none;\">\n",
              "\n",
              "  <svg xmlns=\"http://www.w3.org/2000/svg\" height=\"24px\" viewBox=\"0 -960 960 960\">\n",
              "    <path d=\"M120-120v-720h720v720H120Zm60-500h600v-160H180v160Zm220 220h160v-160H400v160Zm0 220h160v-160H400v160ZM180-400h160v-160H180v160Zm440 0h160v-160H620v160ZM180-180h160v-160H180v160Zm440 0h160v-160H620v160Z\"/>\n",
              "  </svg>\n",
              "    </button>\n",
              "\n",
              "  <style>\n",
              "    .colab-df-container {\n",
              "      display:flex;\n",
              "      gap: 12px;\n",
              "    }\n",
              "\n",
              "    .colab-df-convert {\n",
              "      background-color: #E8F0FE;\n",
              "      border: none;\n",
              "      border-radius: 50%;\n",
              "      cursor: pointer;\n",
              "      display: none;\n",
              "      fill: #1967D2;\n",
              "      height: 32px;\n",
              "      padding: 0 0 0 0;\n",
              "      width: 32px;\n",
              "    }\n",
              "\n",
              "    .colab-df-convert:hover {\n",
              "      background-color: #E2EBFA;\n",
              "      box-shadow: 0px 1px 2px rgba(60, 64, 67, 0.3), 0px 1px 3px 1px rgba(60, 64, 67, 0.15);\n",
              "      fill: #174EA6;\n",
              "    }\n",
              "\n",
              "    .colab-df-buttons div {\n",
              "      margin-bottom: 4px;\n",
              "    }\n",
              "\n",
              "    [theme=dark] .colab-df-convert {\n",
              "      background-color: #3B4455;\n",
              "      fill: #D2E3FC;\n",
              "    }\n",
              "\n",
              "    [theme=dark] .colab-df-convert:hover {\n",
              "      background-color: #434B5C;\n",
              "      box-shadow: 0px 1px 3px 1px rgba(0, 0, 0, 0.15);\n",
              "      filter: drop-shadow(0px 1px 2px rgba(0, 0, 0, 0.3));\n",
              "      fill: #FFFFFF;\n",
              "    }\n",
              "  </style>\n",
              "\n",
              "    <script>\n",
              "      const buttonEl =\n",
              "        document.querySelector('#df-0a528904-49f3-428b-ab67-b555780b20fd button.colab-df-convert');\n",
              "      buttonEl.style.display =\n",
              "        google.colab.kernel.accessAllowed ? 'block' : 'none';\n",
              "\n",
              "      async function convertToInteractive(key) {\n",
              "        const element = document.querySelector('#df-0a528904-49f3-428b-ab67-b555780b20fd');\n",
              "        const dataTable =\n",
              "          await google.colab.kernel.invokeFunction('convertToInteractive',\n",
              "                                                    [key], {});\n",
              "        if (!dataTable) return;\n",
              "\n",
              "        const docLinkHtml = 'Like what you see? Visit the ' +\n",
              "          '<a target=\"_blank\" href=https://colab.research.google.com/notebooks/data_table.ipynb>data table notebook</a>'\n",
              "          + ' to learn more about interactive tables.';\n",
              "        element.innerHTML = '';\n",
              "        dataTable['output_type'] = 'display_data';\n",
              "        await google.colab.output.renderOutput(dataTable, element);\n",
              "        const docLink = document.createElement('div');\n",
              "        docLink.innerHTML = docLinkHtml;\n",
              "        element.appendChild(docLink);\n",
              "      }\n",
              "    </script>\n",
              "  </div>\n",
              "\n",
              "\n",
              "<div id=\"df-b000ff4e-400c-41a5-a471-5cc4c8e44ea0\">\n",
              "  <button class=\"colab-df-quickchart\" onclick=\"quickchart('df-b000ff4e-400c-41a5-a471-5cc4c8e44ea0')\"\n",
              "            title=\"Suggest charts\"\n",
              "            style=\"display:none;\">\n",
              "\n",
              "<svg xmlns=\"http://www.w3.org/2000/svg\" height=\"24px\"viewBox=\"0 0 24 24\"\n",
              "     width=\"24px\">\n",
              "    <g>\n",
              "        <path d=\"M19 3H5c-1.1 0-2 .9-2 2v14c0 1.1.9 2 2 2h14c1.1 0 2-.9 2-2V5c0-1.1-.9-2-2-2zM9 17H7v-7h2v7zm4 0h-2V7h2v10zm4 0h-2v-4h2v4z\"/>\n",
              "    </g>\n",
              "</svg>\n",
              "  </button>\n",
              "\n",
              "<style>\n",
              "  .colab-df-quickchart {\n",
              "      --bg-color: #E8F0FE;\n",
              "      --fill-color: #1967D2;\n",
              "      --hover-bg-color: #E2EBFA;\n",
              "      --hover-fill-color: #174EA6;\n",
              "      --disabled-fill-color: #AAA;\n",
              "      --disabled-bg-color: #DDD;\n",
              "  }\n",
              "\n",
              "  [theme=dark] .colab-df-quickchart {\n",
              "      --bg-color: #3B4455;\n",
              "      --fill-color: #D2E3FC;\n",
              "      --hover-bg-color: #434B5C;\n",
              "      --hover-fill-color: #FFFFFF;\n",
              "      --disabled-bg-color: #3B4455;\n",
              "      --disabled-fill-color: #666;\n",
              "  }\n",
              "\n",
              "  .colab-df-quickchart {\n",
              "    background-color: var(--bg-color);\n",
              "    border: none;\n",
              "    border-radius: 50%;\n",
              "    cursor: pointer;\n",
              "    display: none;\n",
              "    fill: var(--fill-color);\n",
              "    height: 32px;\n",
              "    padding: 0;\n",
              "    width: 32px;\n",
              "  }\n",
              "\n",
              "  .colab-df-quickchart:hover {\n",
              "    background-color: var(--hover-bg-color);\n",
              "    box-shadow: 0 1px 2px rgba(60, 64, 67, 0.3), 0 1px 3px 1px rgba(60, 64, 67, 0.15);\n",
              "    fill: var(--button-hover-fill-color);\n",
              "  }\n",
              "\n",
              "  .colab-df-quickchart-complete:disabled,\n",
              "  .colab-df-quickchart-complete:disabled:hover {\n",
              "    background-color: var(--disabled-bg-color);\n",
              "    fill: var(--disabled-fill-color);\n",
              "    box-shadow: none;\n",
              "  }\n",
              "\n",
              "  .colab-df-spinner {\n",
              "    border: 2px solid var(--fill-color);\n",
              "    border-color: transparent;\n",
              "    border-bottom-color: var(--fill-color);\n",
              "    animation:\n",
              "      spin 1s steps(1) infinite;\n",
              "  }\n",
              "\n",
              "  @keyframes spin {\n",
              "    0% {\n",
              "      border-color: transparent;\n",
              "      border-bottom-color: var(--fill-color);\n",
              "      border-left-color: var(--fill-color);\n",
              "    }\n",
              "    20% {\n",
              "      border-color: transparent;\n",
              "      border-left-color: var(--fill-color);\n",
              "      border-top-color: var(--fill-color);\n",
              "    }\n",
              "    30% {\n",
              "      border-color: transparent;\n",
              "      border-left-color: var(--fill-color);\n",
              "      border-top-color: var(--fill-color);\n",
              "      border-right-color: var(--fill-color);\n",
              "    }\n",
              "    40% {\n",
              "      border-color: transparent;\n",
              "      border-right-color: var(--fill-color);\n",
              "      border-top-color: var(--fill-color);\n",
              "    }\n",
              "    60% {\n",
              "      border-color: transparent;\n",
              "      border-right-color: var(--fill-color);\n",
              "    }\n",
              "    80% {\n",
              "      border-color: transparent;\n",
              "      border-right-color: var(--fill-color);\n",
              "      border-bottom-color: var(--fill-color);\n",
              "    }\n",
              "    90% {\n",
              "      border-color: transparent;\n",
              "      border-bottom-color: var(--fill-color);\n",
              "    }\n",
              "  }\n",
              "</style>\n",
              "\n",
              "  <script>\n",
              "    async function quickchart(key) {\n",
              "      const quickchartButtonEl =\n",
              "        document.querySelector('#' + key + ' button');\n",
              "      quickchartButtonEl.disabled = true;  // To prevent multiple clicks.\n",
              "      quickchartButtonEl.classList.add('colab-df-spinner');\n",
              "      try {\n",
              "        const charts = await google.colab.kernel.invokeFunction(\n",
              "            'suggestCharts', [key], {});\n",
              "      } catch (error) {\n",
              "        console.error('Error during call to suggestCharts:', error);\n",
              "      }\n",
              "      quickchartButtonEl.classList.remove('colab-df-spinner');\n",
              "      quickchartButtonEl.classList.add('colab-df-quickchart-complete');\n",
              "    }\n",
              "    (() => {\n",
              "      let quickchartButtonEl =\n",
              "        document.querySelector('#df-b000ff4e-400c-41a5-a471-5cc4c8e44ea0 button');\n",
              "      quickchartButtonEl.style.display =\n",
              "        google.colab.kernel.accessAllowed ? 'block' : 'none';\n",
              "    })();\n",
              "  </script>\n",
              "</div>\n",
              "    </div>\n",
              "  </div>\n"
            ]
          },
          "metadata": {},
          "execution_count": 4
        }
      ]
    },
    {
      "cell_type": "markdown",
      "source": [
        "### Data Visualization"
      ],
      "metadata": {
        "id": "Tignr3EiLr2l"
      }
    },
    {
      "cell_type": "code",
      "source": [
        "plt.figure(figsize=(10,6))\n",
        "sns.lineplot(x=\"overall\", y=\"age\", data=df)\n",
        "plt.title(\"Age vs Overall Comparison\", size=15)\n",
        "plt.show()"
      ],
      "metadata": {
        "colab": {
          "base_uri": "https://localhost:8080/",
          "height": 566
        },
        "id": "cKu0nly0zk_A",
        "outputId": "25591f3e-4ad7-43fd-c21c-17bf924faa64"
      },
      "execution_count": null,
      "outputs": [
        {
          "output_type": "display_data",
          "data": {
            "text/plain": [
              "<Figure size 1000x600 with 1 Axes>"
            ],
            "image/png": "[encoded data removed]"
          },
          "metadata": {}
        }
      ]
    },
    {
      "cell_type": "markdown",
      "source": [
        "As show in the above graph the there is a positive correlation between age and overall score. As the overall score increases from 50 to around 80, the age also increases steadily from 20 to approximately 28. Highest overall ratings is between the age of 34 and 35 while the lowest ratings is at the age of below 20.\n"
      ],
      "metadata": {
        "id": "nFNh2CA6LqrH"
      }
    },
    {
      "cell_type": "code",
      "source": [
        "df.groupby(\"work_rate\")[\"wage_eur\"].max().plot.bar()\n",
        "plt.xlabel(\"Work Rate\")\n",
        "plt.ylabel(\"Wages in EUR\")\n",
        "plt.title(\"Wages of players by Workrate\", fontsize = 15)\n",
        "plt.show()"
      ],
      "metadata": {
        "colab": {
          "base_uri": "https://localhost:8080/",
          "height": 575
        },
        "id": "P2RdaT1NM5JW",
        "outputId": "38a1a09b-f102-47ce-a8c9-4f3d0930165c"
      },
      "execution_count": null,
      "outputs": [
        {
          "output_type": "display_data",
          "data": {
            "text/plain": [
              "<Figure size 640x480 with 1 Axes>"
            ],
            "image/png": "[encoded data removed]"
          },
          "metadata": {}
        }
      ]
    },
    {
      "cell_type": "markdown",
      "source": [
        "According to the graph Players with a High/High Work Rate have the highest salary followed by those with a Medium/Medium work rate. The Lowest Salary belongs to those who are having Low/Low, Low/Medium Work Rate"
      ],
      "metadata": {
        "id": "mrlOZxylMGwi"
      }
    },
    {
      "cell_type": "code",
      "source": [
        "sns.scatterplot(x =df['overall'], y = df['wage_eur'], hue = df['international_reputation'],palette='jet_r')\n",
        "plt.xlabel(\"Potential\")\n",
        "plt.ylabel(\"Wage EUR\")\n",
        "plt.title(\"Potential & wage Distribution\", fontsize = 15)\n",
        "plt.show()"
      ],
      "metadata": {
        "colab": {
          "base_uri": "https://localhost:8080/",
          "height": 474
        },
        "id": "X7-V4wAIej5I",
        "outputId": "963cf350-dfa0-42ff-c373-454da5b92bc0"
      },
      "execution_count": null,
      "outputs": [
        {
          "output_type": "display_data",
          "data": {
            "text/plain": [
              "<Figure size 640x480 with 1 Axes>"
            ],
            "image/png": "[encoded data removed]"
          },
          "metadata": {}
        }
      ]
    },
    {
      "cell_type": "markdown",
      "source": [
        "From the above graph Players with Higher International Reputation levels are Having with Higher Potential Ratings and Salary."
      ],
      "metadata": {
        "id": "Yy69x4UBrJc_"
      }
    },
    {
      "cell_type": "code",
      "source": [
        "sns.stripplot(data=df, x=\"international_reputation\", y=\"value_eur\", palette=\"tab10\" )\n",
        "plt.xlabel(\"International Reputation\")\n",
        "plt.ylabel(\"Potential value in EUR\")\n",
        "plt.title(\"Reputation & Value of players\", fontsize = 15)\n",
        "plt.show()"
      ],
      "metadata": {
        "colab": {
          "base_uri": "https://localhost:8080/",
          "height": 561
        },
        "id": "f2mzn6CfNEwr",
        "outputId": "4af60ab5-69bf-4e69-abe7-6dbf51bb79d1"
      },
      "execution_count": null,
      "outputs": [
        {
          "output_type": "stream",
          "name": "stderr",
          "text": [
            "<ipython-input-8-fbba248d9c6c>:1: FutureWarning: \n",
            "\n",
            "Passing `palette` without assigning `hue` is deprecated and will be removed in v0.14.0. Assign the `x` variable to `hue` and set `legend=False` for the same effect.\n",
            "\n",
            "  sns.stripplot(data=df, x=\"international_reputation\", y=\"value_eur\", palette=\"tab10\" )\n"
          ]
        },
        {
          "output_type": "display_data",
          "data": {
            "text/plain": [
              "<Figure size 640x480 with 1 Axes>"
            ],
            "image/png": "[encoded data removed]"
          },
          "metadata": {}
        }
      ]
    },
    {
      "cell_type": "markdown",
      "source": [
        "As expected, there seems to be a correlation between the reputation of players and their wages as the players with high reputational value tend to have higher potential values and earn more."
      ],
      "metadata": {
        "id": "dfLKpaYXMVH3"
      }
    },
    {
      "cell_type": "code",
      "source": [
        "#The Best 10 Players of FIFA 22 dataset\n",
        "x = df['short_name'].head(10)\n",
        "y = df['overall'].head(10)\n",
        "# plot\n",
        "plt.figure(figsize=(7,10))\n",
        "ax= sns.barplot(x=y, y=x, palette = 'crest_r', orient='h')\n",
        "plt.xticks()\n",
        "plt.xlabel('Overall Ratings', size = 10)\n",
        "plt.ylabel('Player Names', size = 10 )\n",
        "plt.title('BEST 10 (Overall Rating)')\n",
        "plt.show()"
      ],
      "metadata": {
        "colab": {
          "base_uri": "https://localhost:8080/",
          "height": 963
        },
        "id": "OeacCyD-NmSZ",
        "outputId": "0e3c1f44-184f-4555-8939-d630fd6274ce"
      },
      "execution_count": null,
      "outputs": [
        {
          "output_type": "stream",
          "name": "stderr",
          "text": [
            "<ipython-input-191-ae2a7d1836aa>:8: FutureWarning: \n",
            "\n",
            "Passing `palette` without assigning `hue` is deprecated and will be removed in v0.14.0. Assign the `y` variable to `hue` and set `legend=False` for the same effect.\n",
            "\n",
            "  ax= sns.barplot(x=y, y=x, palette = 'crest_r', orient='h')\n"
          ]
        },
        {
          "output_type": "display_data",
          "data": {
            "text/plain": [
              "<Figure size 700x1000 with 1 Axes>"
            ],
            "image/png": "[encoded data removed]"
          },
          "metadata": {}
        }
      ]
    },
    {
      "cell_type": "markdown",
      "source": [
        "By looking at the graph, the Top 10 Players are - ten players, including L. Messi, R. Lewandowski, Cristiano Ronaldo, Neymar Jr., K. De Bruyne, J. Oblak, K. Mbappé, M. Neuer, M. ter Stegen, and H. Kane. Lionel Messi has the highest overall rating of 93. The Top 10 players have a rating between 90 to 93."
      ],
      "metadata": {
        "id": "vpXE-6JVM-WM"
      }
    },
    {
      "cell_type": "code",
      "source": [
        "player_name = df[['wage_eur','short_name',\n",
        "                  'value_eur','overall','age',\n",
        "                  'nationality_name','potential',\n",
        "                  'international_reputation']].nlargest(10,['wage_eur']).set_index('short_name')\n",
        "player_name"
      ],
      "metadata": {
        "colab": {
          "base_uri": "https://localhost:8080/",
          "height": 394
        },
        "id": "TxgzHUE00OMP",
        "outputId": "15572d05-61ff-4f94-9b6c-20542a184402"
      },
      "execution_count": null,
      "outputs": [
        {
          "output_type": "execute_result",
          "data": {
            "text/plain": [
              "                   wage_eur    value_eur  overall  age nationality_name  \\\n",
              "short_name                                                                \n",
              "K. De Bruyne       350000.0  125500000.0       91   30          Belgium   \n",
              "K. Benzema         350000.0   66000000.0       89   33           France   \n",
              "L. Messi           320000.0   78000000.0       93   34        Argentina   \n",
              "Casemiro           310000.0   88000000.0       89   29           Brazil   \n",
              "T. Kroos           310000.0   75000000.0       88   31          Germany   \n",
              "R. Sterling        290000.0  107500000.0       88   26          England   \n",
              "R. Lewandowski     270000.0  119500000.0       92   32           Poland   \n",
              "Cristiano Ronaldo  270000.0   45000000.0       91   36         Portugal   \n",
              "Neymar Jr          270000.0  129000000.0       91   29           Brazil   \n",
              "S. Mané            270000.0  101000000.0       89   29          Senegal   \n",
              "\n",
              "                   potential  international_reputation  \n",
              "short_name                                              \n",
              "K. De Bruyne              91                         4  \n",
              "K. Benzema                89                         4  \n",
              "L. Messi                  93                         5  \n",
              "Casemiro                  89                         3  \n",
              "T. Kroos                  88                         4  \n",
              "R. Sterling               89                         4  \n",
              "R. Lewandowski            92                         5  \n",
              "Cristiano Ronaldo         91                         5  \n",
              "Neymar Jr                 91                         5  \n",
              "S. Mané                   89                         4  "
            ],
            "text/html": [
              "\n",
              "  <div id=\"df-65b3245e-8d1c-4c4c-b6bd-1b741069deb5\" class=\"colab-df-container\">\n",
              "    <div>\n",
              "<style scoped>\n",
              "    .dataframe tbody tr th:only-of-type {\n",
              "        vertical-align: middle;\n",
              "    }\n",
              "\n",
              "    .dataframe tbody tr th {\n",
              "        vertical-align: top;\n",
              "    }\n",
              "\n",
              "    .dataframe thead th {\n",
              "        text-align: right;\n",
              "    }\n",
              "</style>\n",
              "<table border=\"1\" class=\"dataframe\">\n",
              "  <thead>\n",
              "    <tr style=\"text-align: right;\">\n",
              "      <th></th>\n",
              "      <th>wage_eur</th>\n",
              "      <th>value_eur</th>\n",
              "      <th>overall</th>\n",
              "      <th>age</th>\n",
              "      <th>nationality_name</th>\n",
              "      <th>potential</th>\n",
              "      <th>international_reputation</th>\n",
              "    </tr>\n",
              "    <tr>\n",
              "      <th>short_name</th>\n",
              "      <th></th>\n",
              "      <th></th>\n",
              "      <th></th>\n",
              "      <th></th>\n",
              "      <th></th>\n",
              "      <th></th>\n",
              "      <th></th>\n",
              "    </tr>\n",
              "  </thead>\n",
              "  <tbody>\n",
              "    <tr>\n",
              "      <th>K. De Bruyne</th>\n",
              "      <td>350000.0</td>\n",
              "      <td>125500000.0</td>\n",
              "      <td>91</td>\n",
              "      <td>30</td>\n",
              "      <td>Belgium</td>\n",
              "      <td>91</td>\n",
              "      <td>4</td>\n",
              "    </tr>\n",
              "    <tr>\n",
              "      <th>K. Benzema</th>\n",
              "      <td>350000.0</td>\n",
              "      <td>66000000.0</td>\n",
              "      <td>89</td>\n",
              "      <td>33</td>\n",
              "      <td>France</td>\n",
              "      <td>89</td>\n",
              "      <td>4</td>\n",
              "    </tr>\n",
              "    <tr>\n",
              "      <th>L. Messi</th>\n",
              "      <td>320000.0</td>\n",
              "      <td>78000000.0</td>\n",
              "      <td>93</td>\n",
              "      <td>34</td>\n",
              "      <td>Argentina</td>\n",
              "      <td>93</td>\n",
              "      <td>5</td>\n",
              "    </tr>\n",
              "    <tr>\n",
              "      <th>Casemiro</th>\n",
              "      <td>310000.0</td>\n",
              "      <td>88000000.0</td>\n",
              "      <td>89</td>\n",
              "      <td>29</td>\n",
              "      <td>Brazil</td>\n",
              "      <td>89</td>\n",
              "      <td>3</td>\n",
              "    </tr>\n",
              "    <tr>\n",
              "      <th>T. Kroos</th>\n",
              "      <td>310000.0</td>\n",
              "      <td>75000000.0</td>\n",
              "      <td>88</td>\n",
              "      <td>31</td>\n",
              "      <td>Germany</td>\n",
              "      <td>88</td>\n",
              "      <td>4</td>\n",
              "    </tr>\n",
              "    <tr>\n",
              "      <th>R. Sterling</th>\n",
              "      <td>290000.0</td>\n",
              "      <td>107500000.0</td>\n",
              "      <td>88</td>\n",
              "      <td>26</td>\n",
              "      <td>England</td>\n",
              "      <td>89</td>\n",
              "      <td>4</td>\n",
              "    </tr>\n",
              "    <tr>\n",
              "      <th>R. Lewandowski</th>\n",
              "      <td>270000.0</td>\n",
              "      <td>119500000.0</td>\n",
              "      <td>92</td>\n",
              "      <td>32</td>\n",
              "      <td>Poland</td>\n",
              "      <td>92</td>\n",
              "      <td>5</td>\n",
              "    </tr>\n",
              "    <tr>\n",
              "      <th>Cristiano Ronaldo</th>\n",
              "      <td>270000.0</td>\n",
              "      <td>45000000.0</td>\n",
              "      <td>91</td>\n",
              "      <td>36</td>\n",
              "      <td>Portugal</td>\n",
              "      <td>91</td>\n",
              "      <td>5</td>\n",
              "    </tr>\n",
              "    <tr>\n",
              "      <th>Neymar Jr</th>\n",
              "      <td>270000.0</td>\n",
              "      <td>129000000.0</td>\n",
              "      <td>91</td>\n",
              "      <td>29</td>\n",
              "      <td>Brazil</td>\n",
              "      <td>91</td>\n",
              "      <td>5</td>\n",
              "    </tr>\n",
              "    <tr>\n",
              "      <th>S. Mané</th>\n",
              "      <td>270000.0</td>\n",
              "      <td>101000000.0</td>\n",
              "      <td>89</td>\n",
              "      <td>29</td>\n",
              "      <td>Senegal</td>\n",
              "      <td>89</td>\n",
              "      <td>4</td>\n",
              "    </tr>\n",
              "  </tbody>\n",
              "</table>\n",
              "</div>\n",
              "    <div class=\"colab-df-buttons\">\n",
              "\n",
              "  <div class=\"colab-df-container\">\n",
              "    <button class=\"colab-df-convert\" onclick=\"convertToInteractive('df-65b3245e-8d1c-4c4c-b6bd-1b741069deb5')\"\n",
              "            title=\"Convert this dataframe to an interactive table.\"\n",
              "            style=\"display:none;\">\n",
              "\n",
              "  <svg xmlns=\"http://www.w3.org/2000/svg\" height=\"24px\" viewBox=\"0 -960 960 960\">\n",
              "    <path d=\"M120-120v-720h720v720H120Zm60-500h600v-160H180v160Zm220 220h160v-160H400v160Zm0 220h160v-160H400v160ZM180-400h160v-160H180v160Zm440 0h160v-160H620v160ZM180-180h160v-160H180v160Zm440 0h160v-160H620v160Z\"/>\n",
              "  </svg>\n",
              "    </button>\n",
              "\n",
              "  <style>\n",
              "    .colab-df-container {\n",
              "      display:flex;\n",
              "      gap: 12px;\n",
              "    }\n",
              "\n",
              "    .colab-df-convert {\n",
              "      background-color: #E8F0FE;\n",
              "      border: none;\n",
              "      border-radius: 50%;\n",
              "      cursor: pointer;\n",
              "      display: none;\n",
              "      fill: #1967D2;\n",
              "      height: 32px;\n",
              "      padding: 0 0 0 0;\n",
              "      width: 32px;\n",
              "    }\n",
              "\n",
              "    .colab-df-convert:hover {\n",
              "      background-color: #E2EBFA;\n",
              "      box-shadow: 0px 1px 2px rgba(60, 64, 67, 0.3), 0px 1px 3px 1px rgba(60, 64, 67, 0.15);\n",
              "      fill: #174EA6;\n",
              "    }\n",
              "\n",
              "    .colab-df-buttons div {\n",
              "      margin-bottom: 4px;\n",
              "    }\n",
              "\n",
              "    [theme=dark] .colab-df-convert {\n",
              "      background-color: #3B4455;\n",
              "      fill: #D2E3FC;\n",
              "    }\n",
              "\n",
              "    [theme=dark] .colab-df-convert:hover {\n",
              "      background-color: #434B5C;\n",
              "      box-shadow: 0px 1px 3px 1px rgba(0, 0, 0, 0.15);\n",
              "      filter: drop-shadow(0px 1px 2px rgba(0, 0, 0, 0.3));\n",
              "      fill: #FFFFFF;\n",
              "    }\n",
              "  </style>\n",
              "\n",
              "    <script>\n",
              "      const buttonEl =\n",
              "        document.querySelector('#df-65b3245e-8d1c-4c4c-b6bd-1b741069deb5 button.colab-df-convert');\n",
              "      buttonEl.style.display =\n",
              "        google.colab.kernel.accessAllowed ? 'block' : 'none';\n",
              "\n",
              "      async function convertToInteractive(key) {\n",
              "        const element = document.querySelector('#df-65b3245e-8d1c-4c4c-b6bd-1b741069deb5');\n",
              "        const dataTable =\n",
              "          await google.colab.kernel.invokeFunction('convertToInteractive',\n",
              "                                                    [key], {});\n",
              "        if (!dataTable) return;\n",
              "\n",
              "        const docLinkHtml = 'Like what you see? Visit the ' +\n",
              "          '<a target=\"_blank\" href=https://colab.research.google.com/notebooks/data_table.ipynb>data table notebook</a>'\n",
              "          + ' to learn more about interactive tables.';\n",
              "        element.innerHTML = '';\n",
              "        dataTable['output_type'] = 'display_data';\n",
              "        await google.colab.output.renderOutput(dataTable, element);\n",
              "        const docLink = document.createElement('div');\n",
              "        docLink.innerHTML = docLinkHtml;\n",
              "        element.appendChild(docLink);\n",
              "      }\n",
              "    </script>\n",
              "  </div>\n",
              "\n",
              "\n",
              "<div id=\"df-27148fae-d5d0-4ffb-88a0-a37aba473b74\">\n",
              "  <button class=\"colab-df-quickchart\" onclick=\"quickchart('df-27148fae-d5d0-4ffb-88a0-a37aba473b74')\"\n",
              "            title=\"Suggest charts\"\n",
              "            style=\"display:none;\">\n",
              "\n",
              "<svg xmlns=\"http://www.w3.org/2000/svg\" height=\"24px\"viewBox=\"0 0 24 24\"\n",
              "     width=\"24px\">\n",
              "    <g>\n",
              "        <path d=\"M19 3H5c-1.1 0-2 .9-2 2v14c0 1.1.9 2 2 2h14c1.1 0 2-.9 2-2V5c0-1.1-.9-2-2-2zM9 17H7v-7h2v7zm4 0h-2V7h2v10zm4 0h-2v-4h2v4z\"/>\n",
              "    </g>\n",
              "</svg>\n",
              "  </button>\n",
              "\n",
              "<style>\n",
              "  .colab-df-quickchart {\n",
              "      --bg-color: #E8F0FE;\n",
              "      --fill-color: #1967D2;\n",
              "      --hover-bg-color: #E2EBFA;\n",
              "      --hover-fill-color: #174EA6;\n",
              "      --disabled-fill-color: #AAA;\n",
              "      --disabled-bg-color: #DDD;\n",
              "  }\n",
              "\n",
              "  [theme=dark] .colab-df-quickchart {\n",
              "      --bg-color: #3B4455;\n",
              "      --fill-color: #D2E3FC;\n",
              "      --hover-bg-color: #434B5C;\n",
              "      --hover-fill-color: #FFFFFF;\n",
              "      --disabled-bg-color: #3B4455;\n",
              "      --disabled-fill-color: #666;\n",
              "  }\n",
              "\n",
              "  .colab-df-quickchart {\n",
              "    background-color: var(--bg-color);\n",
              "    border: none;\n",
              "    border-radius: 50%;\n",
              "    cursor: pointer;\n",
              "    display: none;\n",
              "    fill: var(--fill-color);\n",
              "    height: 32px;\n",
              "    padding: 0;\n",
              "    width: 32px;\n",
              "  }\n",
              "\n",
              "  .colab-df-quickchart:hover {\n",
              "    background-color: var(--hover-bg-color);\n",
              "    box-shadow: 0 1px 2px rgba(60, 64, 67, 0.3), 0 1px 3px 1px rgba(60, 64, 67, 0.15);\n",
              "    fill: var(--button-hover-fill-color);\n",
              "  }\n",
              "\n",
              "  .colab-df-quickchart-complete:disabled,\n",
              "  .colab-df-quickchart-complete:disabled:hover {\n",
              "    background-color: var(--disabled-bg-color);\n",
              "    fill: var(--disabled-fill-color);\n",
              "    box-shadow: none;\n",
              "  }\n",
              "\n",
              "  .colab-df-spinner {\n",
              "    border: 2px solid var(--fill-color);\n",
              "    border-color: transparent;\n",
              "    border-bottom-color: var(--fill-color);\n",
              "    animation:\n",
              "      spin 1s steps(1) infinite;\n",
              "  }\n",
              "\n",
              "  @keyframes spin {\n",
              "    0% {\n",
              "      border-color: transparent;\n",
              "      border-bottom-color: var(--fill-color);\n",
              "      border-left-color: var(--fill-color);\n",
              "    }\n",
              "    20% {\n",
              "      border-color: transparent;\n",
              "      border-left-color: var(--fill-color);\n",
              "      border-top-color: var(--fill-color);\n",
              "    }\n",
              "    30% {\n",
              "      border-color: transparent;\n",
              "      border-left-color: var(--fill-color);\n",
              "      border-top-color: var(--fill-color);\n",
              "      border-right-color: var(--fill-color);\n",
              "    }\n",
              "    40% {\n",
              "      border-color: transparent;\n",
              "      border-right-color: var(--fill-color);\n",
              "      border-top-color: var(--fill-color);\n",
              "    }\n",
              "    60% {\n",
              "      border-color: transparent;\n",
              "      border-right-color: var(--fill-color);\n",
              "    }\n",
              "    80% {\n",
              "      border-color: transparent;\n",
              "      border-right-color: var(--fill-color);\n",
              "      border-bottom-color: var(--fill-color);\n",
              "    }\n",
              "    90% {\n",
              "      border-color: transparent;\n",
              "      border-bottom-color: var(--fill-color);\n",
              "    }\n",
              "  }\n",
              "</style>\n",
              "\n",
              "  <script>\n",
              "    async function quickchart(key) {\n",
              "      const quickchartButtonEl =\n",
              "        document.querySelector('#' + key + ' button');\n",
              "      quickchartButtonEl.disabled = true;  // To prevent multiple clicks.\n",
              "      quickchartButtonEl.classList.add('colab-df-spinner');\n",
              "      try {\n",
              "        const charts = await google.colab.kernel.invokeFunction(\n",
              "            'suggestCharts', [key], {});\n",
              "      } catch (error) {\n",
              "        console.error('Error during call to suggestCharts:', error);\n",
              "      }\n",
              "      quickchartButtonEl.classList.remove('colab-df-spinner');\n",
              "      quickchartButtonEl.classList.add('colab-df-quickchart-complete');\n",
              "    }\n",
              "    (() => {\n",
              "      let quickchartButtonEl =\n",
              "        document.querySelector('#df-27148fae-d5d0-4ffb-88a0-a37aba473b74 button');\n",
              "      quickchartButtonEl.style.display =\n",
              "        google.colab.kernel.accessAllowed ? 'block' : 'none';\n",
              "    })();\n",
              "  </script>\n",
              "</div>\n",
              "    </div>\n",
              "  </div>\n"
            ]
          },
          "metadata": {},
          "execution_count": 192
        }
      ]
    },
    {
      "cell_type": "markdown",
      "source": [
        "Here, the top 10 players of FIFA 22 having High International reputation are having the highest salary."
      ],
      "metadata": {
        "id": "lSrBykxJMbkj"
      }
    },
    {
      "cell_type": "markdown",
      "source": [
        "### **Random Forest Classfier**"
      ],
      "metadata": {
        "id": "j340xHkaGDvW"
      }
    },
    {
      "cell_type": "code",
      "source": [
        "columns_to_drop = ['short_name', 'ls', 'st', 'rs', 'lw', 'lf', 'cf', 'rf', 'rw', 'lam', 'cam', 'ram', 'lm', 'lcm', 'cm', 'rcm', 'rm', 'lwb', 'ldm', 'cdm', 'rdm', 'rwb', 'lb', 'lcb', 'cb', 'rcb', 'rb', 'gk', 'club_name', 'league_name', 'club_position', 'nationality_name', 'preferred_foot', 'work_rate', 'player_traits', 'club_joined']\n",
        "\n",
        "# Drop the specified columns\n",
        "df = df.drop(columns=columns_to_drop, axis=1)"
      ],
      "metadata": {
        "id": "LJsHJfZ6f-9_"
      },
      "execution_count": 19,
      "outputs": []
    },
    {
      "cell_type": "code",
      "source": [
        "useless_cols = ['physic', 'sofifa_id', 'player_positions']\n",
        "df = df.drop(useless_cols, axis=1)"
      ],
      "metadata": {
        "id": "oLiO1BaIiehK"
      },
      "execution_count": 4,
      "outputs": []
    },
    {
      "cell_type": "code",
      "source": [
        "df['overall_category'] = df['overall'].apply(lambda x: 'High' if x >= 70 else 'Low')"
      ],
      "metadata": {
        "id": "LnFXIWBGfUwA"
      },
      "execution_count": 26,
      "outputs": []
    },
    {
      "cell_type": "code",
      "source": [
        "X = df.drop(['overall', 'overall_category'], axis=1)\n",
        "y = df['overall_category']"
      ],
      "metadata": {
        "id": "2RqgL6c4fYNZ"
      },
      "execution_count": 27,
      "outputs": []
    },
    {
      "cell_type": "code",
      "source": [
        "X_train, X_test, y_train, y_test = train_test_split(X, y, test_size=0.2, random_state=42)"
      ],
      "metadata": {
        "id": "ALkNjxMQfYV3"
      },
      "execution_count": 28,
      "outputs": []
    },
    {
      "cell_type": "code",
      "source": [
        "X = X.dropna()"
      ],
      "metadata": {
        "id": "1lZIis4viXLX"
      },
      "execution_count": 24,
      "outputs": []
    },
    {
      "cell_type": "code",
      "source": [
        "df = df.fillna(0)"
      ],
      "metadata": {
        "id": "gXtm6pctiXYW"
      },
      "execution_count": 25,
      "outputs": []
    },
    {
      "cell_type": "code",
      "source": [
        "clf_model = RandomForestClassifier(n_estimators=100, random_state=42)\n",
        "clf_model.fit(X_train, y_train)"
      ],
      "metadata": {
        "id": "SXWqvjTHh5pC",
        "colab": {
          "base_uri": "https://localhost:8080/",
          "height": 75
        },
        "outputId": "b931b086-dd02-4ccd-aff4-bf7c2c744fae"
      },
      "execution_count": 29,
      "outputs": [
        {
          "output_type": "execute_result",
          "data": {
            "text/plain": [
              "RandomForestClassifier(random_state=42)"
            ],
            "text/html": [
              "<style>#sk-container-id-1 {color: black;background-color: white;}#sk-container-id-1 pre{padding: 0;}#sk-container-id-1 div.sk-toggleable {background-color: white;}#sk-container-id-1 label.sk-toggleable__label {cursor: pointer;display: block;width: 100%;margin-bottom: 0;padding: 0.3em;box-sizing: border-box;text-align: center;}#sk-container-id-1 label.sk-toggleable__label-arrow:before {content: \"▸\";float: left;margin-right: 0.25em;color: #696969;}#sk-container-id-1 label.sk-toggleable__label-arrow:hover:before {color: black;}#sk-container-id-1 div.sk-estimator:hover label.sk-toggleable__label-arrow:before {color: black;}#sk-container-id-1 div.sk-toggleable__content {max-height: 0;max-width: 0;overflow: hidden;text-align: left;background-color: #f0f8ff;}#sk-container-id-1 div.sk-toggleable__content pre {margin: 0.2em;color: black;border-radius: 0.25em;background-color: #f0f8ff;}#sk-container-id-1 input.sk-toggleable__control:checked~div.sk-toggleable__content {max-height: 200px;max-width: 100%;overflow: auto;}#sk-container-id-1 input.sk-toggleable__control:checked~label.sk-toggleable__label-arrow:before {content: \"▾\";}#sk-container-id-1 div.sk-estimator input.sk-toggleable__control:checked~label.sk-toggleable__label {background-color: #d4ebff;}#sk-container-id-1 div.sk-label input.sk-toggleable__control:checked~label.sk-toggleable__label {background-color: #d4ebff;}#sk-container-id-1 input.sk-hidden--visually {border: 0;clip: rect(1px 1px 1px 1px);clip: rect(1px, 1px, 1px, 1px);height: 1px;margin: -1px;overflow: hidden;padding: 0;position: absolute;width: 1px;}#sk-container-id-1 div.sk-estimator {font-family: monospace;background-color: #f0f8ff;border: 1px dotted black;border-radius: 0.25em;box-sizing: border-box;margin-bottom: 0.5em;}#sk-container-id-1 div.sk-estimator:hover {background-color: #d4ebff;}#sk-container-id-1 div.sk-parallel-item::after {content: \"\";width: 100%;border-bottom: 1px solid gray;flex-grow: 1;}#sk-container-id-1 div.sk-label:hover label.sk-toggleable__label {background-color: #d4ebff;}#sk-container-id-1 div.sk-serial::before {content: \"\";position: absolute;border-left: 1px solid gray;box-sizing: border-box;top: 0;bottom: 0;left: 50%;z-index: 0;}#sk-container-id-1 div.sk-serial {display: flex;flex-direction: column;align-items: center;background-color: white;padding-right: 0.2em;padding-left: 0.2em;position: relative;}#sk-container-id-1 div.sk-item {position: relative;z-index: 1;}#sk-container-id-1 div.sk-parallel {display: flex;align-items: stretch;justify-content: center;background-color: white;position: relative;}#sk-container-id-1 div.sk-item::before, #sk-container-id-1 div.sk-parallel-item::before {content: \"\";position: absolute;border-left: 1px solid gray;box-sizing: border-box;top: 0;bottom: 0;left: 50%;z-index: -1;}#sk-container-id-1 div.sk-parallel-item {display: flex;flex-direction: column;z-index: 1;position: relative;background-color: white;}#sk-container-id-1 div.sk-parallel-item:first-child::after {align-self: flex-end;width: 50%;}#sk-container-id-1 div.sk-parallel-item:last-child::after {align-self: flex-start;width: 50%;}#sk-container-id-1 div.sk-parallel-item:only-child::after {width: 0;}#sk-container-id-1 div.sk-dashed-wrapped {border: 1px dashed gray;margin: 0 0.4em 0.5em 0.4em;box-sizing: border-box;padding-bottom: 0.4em;background-color: white;}#sk-container-id-1 div.sk-label label {font-family: monospace;font-weight: bold;display: inline-block;line-height: 1.2em;}#sk-container-id-1 div.sk-label-container {text-align: center;}#sk-container-id-1 div.sk-container {/* jupyter's `normalize.less` sets `[hidden] { display: none; }` but bootstrap.min.css set `[hidden] { display: none !important; }` so we also need the `!important` here to be able to override the default hidden behavior on the sphinx rendered scikit-learn.org. See: https://github.com/scikit-learn/scikit-learn/issues/21755 */display: inline-block !important;position: relative;}#sk-container-id-1 div.sk-text-repr-fallback {display: none;}</style><div id=\"sk-container-id-1\" class=\"sk-top-container\"><div class=\"sk-text-repr-fallback\"><pre>RandomForestClassifier(random_state=42)</pre><b>In a Jupyter environment, please rerun this cell to show the HTML representation or trust the notebook. <br />On GitHub, the HTML representation is unable to render, please try loading this page with nbviewer.org.</b></div><div class=\"sk-container\" hidden><div class=\"sk-item\"><div class=\"sk-estimator sk-toggleable\"><input class=\"sk-toggleable__control sk-hidden--visually\" id=\"sk-estimator-id-1\" type=\"checkbox\" checked><label for=\"sk-estimator-id-1\" class=\"sk-toggleable__label sk-toggleable__label-arrow\">RandomForestClassifier</label><div class=\"sk-toggleable__content\"><pre>RandomForestClassifier(random_state=42)</pre></div></div></div></div></div>"
            ]
          },
          "metadata": {},
          "execution_count": 29
        }
      ]
    },
    {
      "cell_type": "code",
      "source": [
        "y_pred = clf_model.predict(X_test)"
      ],
      "metadata": {
        "id": "uUm4533qiW9F"
      },
      "execution_count": 30,
      "outputs": []
    },
    {
      "cell_type": "code",
      "source": [
        "accuracy = accuracy_score(y_test, y_pred)\n",
        "conf_matrix = confusion_matrix(y_test, y_pred)"
      ],
      "metadata": {
        "id": "D_Jf5GywiXhM"
      },
      "execution_count": 31,
      "outputs": []
    },
    {
      "cell_type": "code",
      "source": [
        "print(f'Accuracy: {accuracy}')\n",
        "print(classification_report(y_test, y_pred))"
      ],
      "metadata": {
        "colab": {
          "base_uri": "https://localhost:8080/"
        },
        "id": "BFBzeOYxiXuq",
        "outputId": "8ee4b9bc-9912-41e9-d683-1e9adfbad604"
      },
      "execution_count": 32,
      "outputs": [
        {
          "output_type": "stream",
          "name": "stdout",
          "text": [
            "Accuracy: 0.9831081081081081\n",
            "              precision    recall  f1-score   support\n",
            "\n",
            "        High       0.97      0.97      0.97      1083\n",
            "         Low       0.99      0.99      0.99      2765\n",
            "\n",
            "    accuracy                           0.98      3848\n",
            "   macro avg       0.98      0.98      0.98      3848\n",
            "weighted avg       0.98      0.98      0.98      3848\n",
            "\n"
          ]
        }
      ]
    },
    {
      "cell_type": "code",
      "source": [
        "sns.heatmap(conf_matrix, annot=True, fmt='d', cmap='Blues', xticklabels=['Low', 'High'], yticklabels=['Low', 'High'])\n",
        "plt.xlabel('Predicted Labels')\n",
        "plt.ylabel('True Labels')\n",
        "plt.title(f'Confusion Matrix - Accuracy: {accuracy:.2f}')\n",
        "plt.show()"
      ],
      "metadata": {
        "colab": {
          "base_uri": "https://localhost:8080/",
          "height": 472
        },
        "id": "nygN-nlegWAb",
        "outputId": "9e29f8b6-7ab4-4f5f-9b28-a437dad0012b"
      },
      "execution_count": 33,
      "outputs": [
        {
          "output_type": "display_data",
          "data": {
            "text/plain": [
              "<Figure size 640x480 with 2 Axes>"
            ],
            "image/png": "[encoded data removed]"
          },
          "metadata": {}
        }
      ]
    },
    {
      "cell_type": "markdown",
      "source": [
        "### **Data Transformation**"
      ],
      "metadata": {
        "id": "DZtT_oj4Gnus"
      }
    },
    {
      "cell_type": "code",
      "source": [
        "from sklearn.preprocessing import StandardScaler\n",
        "# Label encoding for categorical features\n",
        "le = LabelEncoder()\n",
        "categorical_features = ['preferred_foot', 'work_rate']\n",
        "df[categorical_features] = df[categorical_features].apply(le.fit_transform)"
      ],
      "metadata": {
        "id": "DlLTSX7E1qZ8"
      },
      "execution_count": null,
      "outputs": []
    },
    {
      "cell_type": "code",
      "source": [
        "# Data Transformation\n",
        "scaler = StandardScaler()\n",
        "numerical_features = ['overall', 'potential', 'value_eur', 'wage_eur', 'age']\n",
        "df[numerical_features] = scaler.fit_transform(df[numerical_features])\n",
        "print(df)"
      ],
      "metadata": {
        "id": "86ABHSIS2JRk",
        "colab": {
          "base_uri": "https://localhost:8080/"
        },
        "outputId": "7240fd08-5c34-47d0-ae0a-e7c6731a0d52"
      },
      "execution_count": null,
      "outputs": [
        {
          "output_type": "stream",
          "name": "stdout",
          "text": [
            "                                              player_url          short_name  \\\n",
            "0      https://sofifa.com/player/158023/lionel-messi/...            L. Messi   \n",
            "1      https://sofifa.com/player/188545/robert-lewand...      R. Lewandowski   \n",
            "2      https://sofifa.com/player/20801/c-ronaldo-dos-...   Cristiano Ronaldo   \n",
            "3      https://sofifa.com/player/190871/neymar-da-sil...           Neymar Jr   \n",
            "4      https://sofifa.com/player/192985/kevin-de-bruy...        K. De Bruyne   \n",
            "...                                                  ...                 ...   \n",
            "19234  https://sofifa.com/player/261962/defu-song/220002           Song Defu   \n",
            "19235  https://sofifa.com/player/262040/caoimhin-port...           C. Porter   \n",
            "19236  https://sofifa.com/player/262760/nathan-logue/...            N. Logue   \n",
            "19237  https://sofifa.com/player/262820/luke-rudden/2...           L. Rudden   \n",
            "19238  https://sofifa.com/player/264540/emanuel-lalch...  E. Lalchhanchhuaha   \n",
            "\n",
            "                                 long_name   overall  potential  value_eur  \\\n",
            "0           Lionel Andrés Messi Cuccittini  3.957501   3.601780   9.870564   \n",
            "1                       Robert Lewandowski  3.812154   3.437470  15.321406   \n",
            "2      Cristiano Ronaldo dos Santos Aveiro  3.666806   3.273160   5.536158   \n",
            "3            Neymar da Silva Santos Júnior  3.666806   3.273160  16.569190   \n",
            "4                          Kevin De Bruyne  3.666806   3.273160  16.109480   \n",
            "...                                    ...       ...        ...        ...   \n",
            "19234                                  ??? -2.728494  -3.134932  -0.365200   \n",
            "19235                      Caoimhin Porter -2.728494  -1.984762  -0.359946   \n",
            "19236              Nathan Logue-Cunningham -2.728494  -2.642002  -0.361260   \n",
            "19237                          Luke Rudden -2.728494  -1.820452  -0.359946   \n",
            "19238              Emanuel Lalchhanchhuaha -2.728494  -1.820452  -0.359946   \n",
            "\n",
            "        wage_eur       age         dob  height_cm  ...   lcb    cb   rcb  \\\n",
            "0      15.972640  1.851089  24-06-1987        170  ...  50+3  50+3  50+3   \n",
            "1      13.404543  1.429869  21-08-1988        185  ...  60+3  60+3  60+3   \n",
            "2      13.404543  2.272309  05-02-1985        187  ...  53+3  53+3  53+3   \n",
            "3      13.404543  0.798039  05-02-1992        175  ...  50+3  50+3  50+3   \n",
            "4      17.513498  1.008649  28-06-1991        181  ...  69+3  69+3  69+3   \n",
            "...          ...       ...         ...        ...  ...   ...   ...   ...   \n",
            "19234  -0.411819 -0.676231  02-01-1999        180  ...  46+2  46+2  46+2   \n",
            "19235  -0.437500 -1.308061  18-03-2002        175  ...  44+2  44+2  44+2   \n",
            "19236  -0.437500 -0.886841  07-02-2000        178  ...  45+2  45+2  45+2   \n",
            "19237  -0.437500 -1.308061  23-04-2002        173  ...  26+2  26+2  26+2   \n",
            "19238  -0.437500 -1.308061  06-02-2002        167  ...  41+2  41+2  41+2   \n",
            "\n",
            "         rb    gk                                    player_face_url  \\\n",
            "0      61+3  19+3  https://cdn.sofifa.net/players/158/023/22_120.png   \n",
            "1      61+3  19+3  https://cdn.sofifa.net/players/188/545/22_120.png   \n",
            "2      60+3  20+3  https://cdn.sofifa.net/players/020/801/22_120.png   \n",
            "3      62+3  20+3  https://cdn.sofifa.net/players/190/871/22_120.png   \n",
            "4      75+3  21+3  https://cdn.sofifa.net/players/192/985/22_120.png   \n",
            "...     ...   ...                                                ...   \n",
            "19234  48+2  15+2  https://cdn.sofifa.net/players/261/962/22_120.png   \n",
            "19235  48+2  14+2  https://cdn.sofifa.net/players/262/040/22_120.png   \n",
            "19236  47+2  12+2  https://cdn.sofifa.net/players/262/760/22_120.png   \n",
            "19237  32+2  15+2  https://cdn.sofifa.net/players/262/820/22_120.png   \n",
            "19238  45+2  16+2  https://cdn.sofifa.net/players/264/540/22_120.png   \n",
            "\n",
            "                                    club_logo_url  \\\n",
            "0          https://cdn.sofifa.net/teams/73/60.png   \n",
            "1          https://cdn.sofifa.net/teams/21/60.png   \n",
            "2          https://cdn.sofifa.net/teams/11/60.png   \n",
            "3          https://cdn.sofifa.net/teams/73/60.png   \n",
            "4          https://cdn.sofifa.net/teams/10/60.png   \n",
            "...                                           ...   \n",
            "19234  https://cdn.sofifa.net/teams/112541/60.png   \n",
            "19235     https://cdn.sofifa.net/teams/445/60.png   \n",
            "19236  https://cdn.sofifa.net/teams/111131/60.png   \n",
            "19237  https://cdn.sofifa.net/teams/111131/60.png   \n",
            "19238  https://cdn.sofifa.net/teams/113040/60.png   \n",
            "\n",
            "                                 club_flag_url  \\\n",
            "0          https://cdn.sofifa.net/flags/fr.png   \n",
            "1          https://cdn.sofifa.net/flags/de.png   \n",
            "2      https://cdn.sofifa.net/flags/gb-eng.png   \n",
            "3          https://cdn.sofifa.net/flags/fr.png   \n",
            "4      https://cdn.sofifa.net/flags/gb-eng.png   \n",
            "...                                        ...   \n",
            "19234      https://cdn.sofifa.net/flags/cn.png   \n",
            "19235      https://cdn.sofifa.net/flags/ie.png   \n",
            "19236      https://cdn.sofifa.net/flags/ie.png   \n",
            "19237      https://cdn.sofifa.net/flags/ie.png   \n",
            "19238      https://cdn.sofifa.net/flags/in.png   \n",
            "\n",
            "                                nation_logo_url  \\\n",
            "0      https://cdn.sofifa.net/teams/1369/60.png   \n",
            "1      https://cdn.sofifa.net/teams/1353/60.png   \n",
            "2      https://cdn.sofifa.net/teams/1354/60.png   \n",
            "3                                           NaN   \n",
            "4      https://cdn.sofifa.net/teams/1325/60.png   \n",
            "...                                         ...   \n",
            "19234                                       NaN   \n",
            "19235                                       NaN   \n",
            "19236                                       NaN   \n",
            "19237                                       NaN   \n",
            "19238                                       NaN   \n",
            "\n",
            "                           nation_flag_url  \n",
            "0      https://cdn.sofifa.net/flags/ar.png  \n",
            "1      https://cdn.sofifa.net/flags/pl.png  \n",
            "2      https://cdn.sofifa.net/flags/pt.png  \n",
            "3      https://cdn.sofifa.net/flags/br.png  \n",
            "4      https://cdn.sofifa.net/flags/be.png  \n",
            "...                                    ...  \n",
            "19234  https://cdn.sofifa.net/flags/cn.png  \n",
            "19235  https://cdn.sofifa.net/flags/ie.png  \n",
            "19236  https://cdn.sofifa.net/flags/ie.png  \n",
            "19237  https://cdn.sofifa.net/flags/ie.png  \n",
            "19238  https://cdn.sofifa.net/flags/in.png  \n",
            "\n",
            "[19239 rows x 75 columns]\n"
          ]
        }
      ]
    },
    {
      "cell_type": "code",
      "source": [
        "X = X.dropna()"
      ],
      "metadata": {
        "id": "lFjI3dBk-Y80"
      },
      "execution_count": null,
      "outputs": []
    },
    {
      "cell_type": "code",
      "source": [
        "df = df.fillna(0)"
      ],
      "metadata": {
        "id": "09PkFQu8-fXW"
      },
      "execution_count": null,
      "outputs": []
    },
    {
      "cell_type": "markdown",
      "source": [
        "### **Algorithm Selection: Random Forest Regression**\n",
        "### **Data Splitting**"
      ],
      "metadata": {
        "id": "QnxVrdqkHjpt"
      }
    },
    {
      "cell_type": "code",
      "source": [
        "from sklearn.model_selection import train_test_split\n",
        "from sklearn.ensemble import RandomForestRegressor\n",
        "from sklearn.metrics import mean_squared_error\n",
        "\n",
        "X = df.drop(['overall'], axis=1)\n",
        "y = df['overall']\n",
        "\n",
        "# Split the data into training and testing sets\n",
        "X_train, X_test, y_train, y_test = train_test_split(X, y, test_size=0.2, random_state=42)"
      ],
      "metadata": {
        "id": "qSH0fnOR2M46"
      },
      "execution_count": null,
      "outputs": []
    },
    {
      "cell_type": "code",
      "source": [
        "X_train.shape"
      ],
      "metadata": {
        "colab": {
          "base_uri": "https://localhost:8080/"
        },
        "id": "9AR6qwna2rEM",
        "outputId": "8684020d-34e4-48ba-d492-7123f11d0d2b"
      },
      "execution_count": null,
      "outputs": [
        {
          "output_type": "execute_result",
          "data": {
            "text/plain": [
              "(15391, 59)"
            ]
          },
          "metadata": {},
          "execution_count": 224
        }
      ]
    },
    {
      "cell_type": "code",
      "source": [
        "X_test.shape"
      ],
      "metadata": {
        "colab": {
          "base_uri": "https://localhost:8080/"
        },
        "id": "Ka7eVy9B3Iqa",
        "outputId": "65e0780c-4db5-4ea2-d78d-0a463b8ee2c7"
      },
      "execution_count": null,
      "outputs": [
        {
          "output_type": "execute_result",
          "data": {
            "text/plain": [
              "(3848, 59)"
            ]
          },
          "metadata": {},
          "execution_count": 225
        }
      ]
    },
    {
      "cell_type": "code",
      "source": [
        "#drop categorical variables\n",
        "unwanted_columns = ['short_name', 'ls', 'st', 'rs', 'lw', 'lf', 'cf', 'rf', 'rw', 'lam', 'cam', 'ram', 'lm', 'lcm', 'cm', 'rcm', 'rm', 'lwb', 'ldm', 'cdm', 'rdm', 'rwb', 'lb','lcb', 'cb', 'rcb', 'rb', 'gk', 'club_name','league_name','club_position','nationality_name', 'preferred_foot', 'work_rate', 'player_traits', 'club_joined']\n",
        "X_train = X_train.drop(unwanted_columns, axis=1)\n",
        "X_test = X_test.drop(unwanted_columns, axis=1)"
      ],
      "metadata": {
        "id": "NVEDqwm55PpS"
      },
      "execution_count": 12,
      "outputs": []
    },
    {
      "cell_type": "markdown",
      "source": [
        "### **Model Building**"
      ],
      "metadata": {
        "id": "HaZTUfW_O07y"
      }
    },
    {
      "cell_type": "code",
      "source": [
        "# Train a RandomForestRegressor\n",
        "model = RandomForestRegressor()\n",
        "model.fit(X_train, y_train)"
      ],
      "metadata": {
        "colab": {
          "base_uri": "https://localhost:8080/",
          "height": 74
        },
        "id": "S0Ergvx_3Wia",
        "outputId": "7a0076eb-75bd-4922-8a51-ee1789100ec3"
      },
      "execution_count": null,
      "outputs": [
        {
          "output_type": "execute_result",
          "data": {
            "text/plain": [
              "RandomForestRegressor()"
            ],
            "text/html": [
              "<style>#sk-container-id-26 {color: black;background-color: white;}#sk-container-id-26 pre{padding: 0;}#sk-container-id-26 div.sk-toggleable {background-color: white;}#sk-container-id-26 label.sk-toggleable__label {cursor: pointer;display: block;width: 100%;margin-bottom: 0;padding: 0.3em;box-sizing: border-box;text-align: center;}#sk-container-id-26 label.sk-toggleable__label-arrow:before {content: \"▸\";float: left;margin-right: 0.25em;color: #696969;}#sk-container-id-26 label.sk-toggleable__label-arrow:hover:before {color: black;}#sk-container-id-26 div.sk-estimator:hover label.sk-toggleable__label-arrow:before {color: black;}#sk-container-id-26 div.sk-toggleable__content {max-height: 0;max-width: 0;overflow: hidden;text-align: left;background-color: #f0f8ff;}#sk-container-id-26 div.sk-toggleable__content pre {margin: 0.2em;color: black;border-radius: 0.25em;background-color: #f0f8ff;}#sk-container-id-26 input.sk-toggleable__control:checked~div.sk-toggleable__content {max-height: 200px;max-width: 100%;overflow: auto;}#sk-container-id-26 input.sk-toggleable__control:checked~label.sk-toggleable__label-arrow:before {content: \"▾\";}#sk-container-id-26 div.sk-estimator input.sk-toggleable__control:checked~label.sk-toggleable__label {background-color: #d4ebff;}#sk-container-id-26 div.sk-label input.sk-toggleable__control:checked~label.sk-toggleable__label {background-color: #d4ebff;}#sk-container-id-26 input.sk-hidden--visually {border: 0;clip: rect(1px 1px 1px 1px);clip: rect(1px, 1px, 1px, 1px);height: 1px;margin: -1px;overflow: hidden;padding: 0;position: absolute;width: 1px;}#sk-container-id-26 div.sk-estimator {font-family: monospace;background-color: #f0f8ff;border: 1px dotted black;border-radius: 0.25em;box-sizing: border-box;margin-bottom: 0.5em;}#sk-container-id-26 div.sk-estimator:hover {background-color: #d4ebff;}#sk-container-id-26 div.sk-parallel-item::after {content: \"\";width: 100%;border-bottom: 1px solid gray;flex-grow: 1;}#sk-container-id-26 div.sk-label:hover label.sk-toggleable__label {background-color: #d4ebff;}#sk-container-id-26 div.sk-serial::before {content: \"\";position: absolute;border-left: 1px solid gray;box-sizing: border-box;top: 0;bottom: 0;left: 50%;z-index: 0;}#sk-container-id-26 div.sk-serial {display: flex;flex-direction: column;align-items: center;background-color: white;padding-right: 0.2em;padding-left: 0.2em;position: relative;}#sk-container-id-26 div.sk-item {position: relative;z-index: 1;}#sk-container-id-26 div.sk-parallel {display: flex;align-items: stretch;justify-content: center;background-color: white;position: relative;}#sk-container-id-26 div.sk-item::before, #sk-container-id-26 div.sk-parallel-item::before {content: \"\";position: absolute;border-left: 1px solid gray;box-sizing: border-box;top: 0;bottom: 0;left: 50%;z-index: -1;}#sk-container-id-26 div.sk-parallel-item {display: flex;flex-direction: column;z-index: 1;position: relative;background-color: white;}#sk-container-id-26 div.sk-parallel-item:first-child::after {align-self: flex-end;width: 50%;}#sk-container-id-26 div.sk-parallel-item:last-child::after {align-self: flex-start;width: 50%;}#sk-container-id-26 div.sk-parallel-item:only-child::after {width: 0;}#sk-container-id-26 div.sk-dashed-wrapped {border: 1px dashed gray;margin: 0 0.4em 0.5em 0.4em;box-sizing: border-box;padding-bottom: 0.4em;background-color: white;}#sk-container-id-26 div.sk-label label {font-family: monospace;font-weight: bold;display: inline-block;line-height: 1.2em;}#sk-container-id-26 div.sk-label-container {text-align: center;}#sk-container-id-26 div.sk-container {/* jupyter's `normalize.less` sets `[hidden] { display: none; }` but bootstrap.min.css set `[hidden] { display: none !important; }` so we also need the `!important` here to be able to override the default hidden behavior on the sphinx rendered scikit-learn.org. See: https://github.com/scikit-learn/scikit-learn/issues/21755 */display: inline-block !important;position: relative;}#sk-container-id-26 div.sk-text-repr-fallback {display: none;}</style><div id=\"sk-container-id-26\" class=\"sk-top-container\"><div class=\"sk-text-repr-fallback\"><pre>RandomForestRegressor()</pre><b>In a Jupyter environment, please rerun this cell to show the HTML representation or trust the notebook. <br />On GitHub, the HTML representation is unable to render, please try loading this page with nbviewer.org.</b></div><div class=\"sk-container\" hidden><div class=\"sk-item\"><div class=\"sk-estimator sk-toggleable\"><input class=\"sk-toggleable__control sk-hidden--visually\" id=\"sk-estimator-id-26\" type=\"checkbox\" checked><label for=\"sk-estimator-id-26\" class=\"sk-toggleable__label sk-toggleable__label-arrow\">RandomForestRegressor</label><div class=\"sk-toggleable__content\"><pre>RandomForestRegressor()</pre></div></div></div></div></div>"
            ]
          },
          "metadata": {},
          "execution_count": 227
        }
      ]
    },
    {
      "cell_type": "markdown",
      "source": [
        "### **Prediction And Model Evaluation**"
      ],
      "metadata": {
        "id": "lQ8IRudLHJCH"
      }
    },
    {
      "cell_type": "code",
      "source": [
        "# Make predictions on the test set\n",
        "y_pred = model.predict(X_test)\n",
        "\n",
        "# Evaluate the model\n",
        "mse = mean_squared_error(y_test, y_pred)\n",
        "print(f'Mean Squared Error: {mse}')"
      ],
      "metadata": {
        "colab": {
          "base_uri": "https://localhost:8080/"
        },
        "id": "E2plgAtjSvRL",
        "outputId": "718d71ce-5a1b-4426-845f-bd7f7cd185f8"
      },
      "execution_count": null,
      "outputs": [
        {
          "output_type": "stream",
          "name": "stdout",
          "text": [
            "Mean Squared Error: 0.004818181094148991\n"
          ]
        }
      ]
    },
    {
      "cell_type": "code",
      "source": [
        "plt.figure(figsize=(10, 6))\n",
        "sns.scatterplot(x=y_test, y=y_pred)\n",
        "plt.xlabel('Actual Overall Rating')\n",
        "plt.ylabel('Predicted Overall Rating')\n",
        "plt.title('Actual vs Predicted Player Overall Ratings')\n",
        "plt.show()"
      ],
      "metadata": {
        "colab": {
          "base_uri": "https://localhost:8080/",
          "height": 564
        },
        "id": "r0c_wJbiXUQV",
        "outputId": "a4aace37-9e0a-464e-bb38-72485486df5a"
      },
      "execution_count": null,
      "outputs": [
        {
          "output_type": "display_data",
          "data": {
            "text/plain": [
              "<Figure size 1000x600 with 1 Axes>"
            ],
            "image/png": "[encoded data removed]"
          },
          "metadata": {}
        }
      ]
    },
    {
      "cell_type": "markdown",
      "source": [
        "The scatter plot comparing the actual overall rating of players to their predicted overall rating can be used to evaluate the performance of player. The data points are closely aligned along a diagonal line, indicating that there is a strong correlation between the actual and predicted ratings."
      ],
      "metadata": {
        "id": "OeiM7pOYjrXp"
      }
    },
    {
      "cell_type": "markdown",
      "source": [
        "### Drop Unwanted Columns"
      ],
      "metadata": {
        "id": "tjCYjFEII1EO"
      }
    },
    {
      "cell_type": "code",
      "source": [
        "columns_to_drop = ['short_name', 'ls', 'st', 'rs', 'lw', 'lf', 'cf', 'rf', 'rw', 'lam', 'cam', 'ram', 'lm', 'lcm', 'cm', 'rcm', 'rm', 'lwb', 'ldm', 'cdm', 'rdm', 'rwb', 'lb', 'lcb', 'cb', 'rcb', 'rb', 'gk', 'club_name', 'league_name', 'club_position', 'nationality_name', 'preferred_foot', 'work_rate', 'player_traits', 'club_joined']\n",
        "\n",
        "# Drop the specified columns\n",
        "df = df.drop(columns=columns_to_drop, axis=1)"
      ],
      "metadata": {
        "id": "m9w18jZSTCTP"
      },
      "execution_count": null,
      "outputs": []
    },
    {
      "cell_type": "code",
      "source": [
        "X = X.dropna()"
      ],
      "metadata": {
        "id": "xtewnbnXMVDA"
      },
      "execution_count": null,
      "outputs": []
    },
    {
      "cell_type": "code",
      "source": [
        "df = df.fillna(0)"
      ],
      "metadata": {
        "id": "Dm4pJk4rNbf5"
      },
      "execution_count": null,
      "outputs": []
    },
    {
      "cell_type": "markdown",
      "source": [
        "### **Salary Prediction using Random Forest Regression**"
      ],
      "metadata": {
        "id": "qqrx9kIOI8g-"
      }
    },
    {
      "cell_type": "code",
      "source": [
        "import pandas as pd\n",
        "from sklearn.model_selection import train_test_split\n",
        "from sklearn.ensemble import RandomForestRegressor\n",
        "from sklearn.metrics import mean_squared_error\n",
        "import matplotlib.pyplot as plt\n",
        "import seaborn as sns\n",
        "\n",
        "# Assuming you have a pandas DataFrame with the provided attributes\n",
        "# df = pd.read_csv('your_dataset.csv')\n",
        "\n",
        "# Drop any rows with missing values for simplicity\n",
        "df.dropna(inplace=True)\n",
        "\n",
        "# Let's use 'wage_eur' as the target variable for regression\n",
        "X = df.drop(['wage_eur'], axis=1)\n",
        "y = df['wage_eur']\n",
        "\n",
        "# Split the data into training and testing sets\n",
        "X_train, X_test, y_train, y_test = train_test_split(X, y, test_size=0.2, random_state=42)\n",
        "\n",
        "# Train the dataset using RandomForestRegressor\n",
        "model = RandomForestRegressor()\n",
        "model.fit(X_train, y_train)\n",
        "\n",
        "# To Make predictions on the test set\n",
        "y_pred = model.predict(X_test)\n",
        "\n",
        "# Evaluate the model\n",
        "mse = mean_squared_error(y_test, y_pred)\n",
        "print(f'Mean Squared Error: {mse}')\n",
        "\n",
        "# Feature Importance\n",
        "feature_importances = model.feature_importances_\n",
        "feature_importance_df = pd.DataFrame({'Feature': X.columns, 'Importance': feature_importances})\n",
        "feature_importance_df = feature_importance_df.sort_values(by='Importance', ascending=False)\n",
        "\n",
        "# Display top 10 important features\n",
        "top_features = feature_importance_df.head(10)\n",
        "print(top_features)\n",
        "\n",
        "# Plotting the predicted vs actual wages\n",
        "plt.figure(figsize=(10, 6))\n",
        "sns.scatterplot(x=y_test, y=y_pred)\n",
        "plt.xlabel('Actual Wages (EUR)')\n",
        "plt.ylabel('Predicted Wages (EUR)')\n",
        "plt.title('Actual vs Predicted Player Wages')\n",
        "plt.show()"
      ],
      "metadata": {
        "colab": {
          "base_uri": "https://localhost:8080/",
          "height": 772
        },
        "id": "jzaIbJ4MUX7F",
        "outputId": "9abf7760-530f-4026-f821-93f760ee6632"
      },
      "execution_count": null,
      "outputs": [
        {
          "output_type": "stream",
          "name": "stdout",
          "text": [
            "Mean Squared Error: 0.2084815153162746\n",
            "                 Feature  Importance\n",
            "0                overall    0.581449\n",
            "2              value_eur    0.186729\n",
            "7     release_clause_eur    0.025676\n",
            "13    skill_ball_control    0.018411\n",
            "15      power_shot_power    0.016090\n",
            "5              weight_kg    0.013350\n",
            "3                    age    0.013250\n",
            "12             defending    0.012787\n",
            "18  goalkeeping_handling    0.012350\n",
            "4              height_cm    0.010722\n"
          ]
        },
        {
          "output_type": "display_data",
          "data": {
            "text/plain": [
              "<Figure size 1000x600 with 1 Axes>"
            ],
            "image/png": "[encoded data removed]"
          },
          "metadata": {}
        }
      ]
    },
    {
      "cell_type": "markdown",
      "source": [
        "## **Conclusion**\n",
        "The confusion matrix provides a comprehensive overview of the classification model's performance. With an accuracy of 98%, the model demonstrates high precision and recall for both 'High' and 'Low' overall rating categories. It correctly identifies 1055 instances of 'Low' rating and 2728 instances of 'High' rating, with only 28 instances misclassified as 'High' and 37 as 'Low'. The precision, recall, and F1-score metrics further emphasize the model's strong performance, achieving 97% precision and recall for 'High' and 99% for 'Low'.\n",
        "\n",
        "The scatter plot depicting the correlation between actual and predicted player overall ratings affirms the model's accuracy. A strong alignment along the diagonal line indicates that the model accurately predicts overall ratings.\n",
        "\n",
        "The presence of a large cluster near the origin (0,0) suggests there is a concentration of players with low actual and predicted ratings. As actual wages increase (moving right along the x-axis), the spread of predicted wages becomes more dispersed along the y-axis. Hence, there is more variance in the predicted wages, with some overestimations and underestimations visible.\n"
      ],
      "metadata": {
        "id": "XE1I4x5otZG5"
      }
    },
    {
      "cell_type": "markdown",
      "source": [
        "A large number is visible at the lower left corner, indicating many players with low actual and predicted wages. As we move right along the x-axis, there are fewer dots, showing that fewer players have higher actual wages. The prediction model has some level of inconsistency as the spread of predicted values increases with higher actual values."
      ],
      "metadata": {
        "id": "RLReeuFImfBV"
      }
    }
  ]
}